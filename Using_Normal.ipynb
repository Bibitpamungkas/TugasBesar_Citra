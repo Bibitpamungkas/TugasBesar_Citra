{
  "nbformat": 4,
  "nbformat_minor": 0,
  "metadata": {
    "colab": {
      "name": "Using Normal.ipynb",
      "provenance": [],
      "collapsed_sections": [],
      "include_colab_link": true
    },
    "kernelspec": {
      "name": "python3",
      "display_name": "Python 3"
    },
    "language_info": {
      "name": "python"
    },
    "accelerator": "GPU"
  },
  "cells": [
    {
      "cell_type": "markdown",
      "metadata": {
        "id": "view-in-github",
        "colab_type": "text"
      },
      "source": [
        "<a href=\"https://colab.research.google.com/github/Bibitpamungkas/TugasBesar_Citra/blob/kelompok/Using_Normal.ipynb\" target=\"_parent\"><img src=\"https://colab.research.google.com/assets/colab-badge.svg\" alt=\"Open In Colab\"/></a>"
      ]
    },
    {
      "cell_type": "code",
      "metadata": {
        "id": "OLidCrBbSH5h"
      },
      "source": [
        "# Tulis Program Anda Disini!\n",
        "# Basic Imports\n",
        "import numpy as np\n",
        "import matplotlib.pyplot as plt\n",
        "from glob import glob\n",
        "from PIL import Image\n",
        "\n",
        "# Imports untuk membangun CNN\n",
        "from keras.layers import Input, Lambda, Dense, Flatten\n",
        "from keras.models import Model\n",
        "from keras.applications.vgg19 import VGG19\n",
        "from keras.applications.vgg19 import preprocess_input\n",
        "from keras.preprocessing import image\n",
        "from keras.preprocessing.image import ImageDataGenerator\n",
        "from keras.models import Sequential, load_model\n",
        "\n",
        "# Ignore Warnings\n",
        "import warnings\n",
        "warnings.filterwarnings(\"ignore\")"
      ],
      "execution_count": null,
      "outputs": []
    },
    {
      "cell_type": "code",
      "metadata": {
        "colab": {
          "base_uri": "https://localhost:8080/"
        },
        "id": "NT6o_PwlVfnn",
        "outputId": "6284a48c-4da1-4586-c5d2-ae06915b2117"
      },
      "source": [
        "!pip install kaggle"
      ],
      "execution_count": null,
      "outputs": [
        {
          "output_type": "stream",
          "name": "stdout",
          "text": [
            "Requirement already satisfied: kaggle in /usr/local/lib/python3.7/dist-packages (1.5.12)\n",
            "Requirement already satisfied: urllib3 in /usr/local/lib/python3.7/dist-packages (from kaggle) (1.24.3)\n",
            "Requirement already satisfied: tqdm in /usr/local/lib/python3.7/dist-packages (from kaggle) (4.62.3)\n",
            "Requirement already satisfied: six>=1.10 in /usr/local/lib/python3.7/dist-packages (from kaggle) (1.15.0)\n",
            "Requirement already satisfied: python-slugify in /usr/local/lib/python3.7/dist-packages (from kaggle) (5.0.2)\n",
            "Requirement already satisfied: certifi in /usr/local/lib/python3.7/dist-packages (from kaggle) (2021.10.8)\n",
            "Requirement already satisfied: requests in /usr/local/lib/python3.7/dist-packages (from kaggle) (2.23.0)\n",
            "Requirement already satisfied: python-dateutil in /usr/local/lib/python3.7/dist-packages (from kaggle) (2.8.2)\n",
            "Requirement already satisfied: text-unidecode>=1.3 in /usr/local/lib/python3.7/dist-packages (from python-slugify->kaggle) (1.3)\n",
            "Requirement already satisfied: idna<3,>=2.5 in /usr/local/lib/python3.7/dist-packages (from requests->kaggle) (2.10)\n",
            "Requirement already satisfied: chardet<4,>=3.0.2 in /usr/local/lib/python3.7/dist-packages (from requests->kaggle) (3.0.4)\n"
          ]
        }
      ]
    },
    {
      "cell_type": "code",
      "metadata": {
        "colab": {
          "base_uri": "https://localhost:8080/"
        },
        "id": "DdS900v_Vhxg",
        "outputId": "3111db2c-b7fe-463f-8ff5-250d2fc8b9fa"
      },
      "source": [
        "%cd /content/gdrive/MyDrive/content/sample_data/"
      ],
      "execution_count": null,
      "outputs": [
        {
          "output_type": "stream",
          "name": "stdout",
          "text": [
            "[Errno 2] No such file or directory: '/content/gdrive/MyDrive/content/sample_data/'\n",
            "/content\n"
          ]
        }
      ]
    },
    {
      "cell_type": "code",
      "metadata": {
        "id": "To7VBDpjVm79"
      },
      "source": [
        "import os\n",
        "os.environ['KAGGLE_CONFIG_DIR'] = \"/tmp/\""
      ],
      "execution_count": null,
      "outputs": []
    },
    {
      "cell_type": "code",
      "metadata": {
        "id": "BHKCIYjVVoNW"
      },
      "source": [
        "# jika anda ingin menggunakan kaggle API untuk mengunduh dataset gunakan\n",
        "# kode berikut untuk membantu anda membuat config kaggle.json\n",
        "# pastikan anda mendaftar akun kaggle terlebih dahulu\n",
        "# kemudian menuju halaman my account dan buat token API anda\n",
        "\n",
        "api_token = {\"username\":\"bibitpamungkas\",\"key\":\"0b4a500fd9a858ee152de296398002ab\"}\n",
        "import json\n",
        "import zipfile\n",
        "import os\n",
        "with open('/tmp/kaggle.json', 'w') as file:\n",
        "    json.dump(api_token, file)\n",
        "!chmod 600 /tmp/kaggle.json"
      ],
      "execution_count": null,
      "outputs": []
    },
    {
      "cell_type": "code",
      "metadata": {
        "colab": {
          "base_uri": "https://localhost:8080/"
        },
        "id": "6GLqIFi7VtBq",
        "outputId": "da83162d-8371-40b2-dc56-57bbb75a3eae"
      },
      "source": [
        "!kaggle datasets download -d denizkavi1/brain-tumor"
      ],
      "execution_count": null,
      "outputs": [
        {
          "output_type": "stream",
          "name": "stdout",
          "text": [
            "Downloading brain-tumor.zip to /content\n",
            " 97% 678M/700M [00:02<00:00, 232MB/s]\n",
            "100% 700M/700M [00:02<00:00, 251MB/s]\n"
          ]
        }
      ]
    },
    {
      "cell_type": "code",
      "metadata": {
        "id": "VN5_ChJdWesQ"
      },
      "source": [
        "# Ekstrak dataset\n",
        "\n",
        "import os\n",
        "import zipfile\n",
        "\n",
        "os.makedirs('/tmp/brain-tumor')\n",
        "\n",
        "local_zip = '/content/brain-tumor.zip'\n",
        "zip_ref = zipfile.ZipFile(local_zip, 'r')\n",
        "zip_ref.extractall('/tmp/brain-tumor')\n",
        "zip_ref.close()"
      ],
      "execution_count": null,
      "outputs": []
    },
    {
      "cell_type": "code",
      "metadata": {
        "id": "wVpu1UlcR96a"
      },
      "source": [
        "import os\n",
        "base_dataset = '/tmp/brain-tumor'\n",
        "class_dir = ['1','2','3']\n",
        "for class_item in class_dir:\n",
        "  cur_dir = base_dataset+\"/\"+class_item\n",
        "  dataset = os.listdir(cur_dir)\n",
        "  for item in dataset:\n",
        "    if not item.endswith(\".png\"):\n",
        "        os.remove(os.path.join(cur_dir, item))"
      ],
      "execution_count": null,
      "outputs": []
    },
    {
      "cell_type": "code",
      "metadata": {
        "colab": {
          "base_uri": "https://localhost:8080/"
        },
        "id": "qa950CRYMDfR",
        "outputId": "0e4faf96-526e-4f7a-9313-7f96ae667e84"
      },
      "source": [
        "import os\n",
        "import shutil\n",
        "\n",
        "#brain-tumoring dataset manual\n",
        "\n",
        "dataset_splt = \"/tmp/brain-tumor\"\n",
        "os.makedirs('/tmp/brain-tumor/train')\n",
        "os.makedirs('/tmp/brain-tumor/val')\n",
        "os.makedirs('/tmp/brain-tumor/test')\n",
        "\n",
        "train = os.path.join(dataset_splt,'train')\n",
        "val = os.path.join(dataset_splt,'val')\n",
        "test = os.path.join(dataset_splt,'test')\n",
        "\n",
        "#1\n",
        "x1_dataset = '/tmp/brain-tumor/1'\n",
        "os.makedirs('/tmp/brain-tumor/train/1')\n",
        "os.makedirs('/tmp/brain-tumor/val/1')\n",
        "os.makedirs('/tmp/brain-tumor/test/1')\n",
        "\n",
        "pp_tr = os.path.join(train,'1')\n",
        "pp_va = os.path.join(val,'1')\n",
        "pp_ts = os.path.join(test,'1')\n",
        "\n",
        "#70% data training\n",
        "x1_dataset1= os.listdir(x1_dataset)\n",
        "for file in x1_dataset1[0:int(len(x1_dataset1)* .8)]:\n",
        "  new_path = shutil.move(f\"{x1_dataset}/{file}\",pp_tr)\n",
        "\n",
        "#15% data validation\n",
        "x1_dataset2= os.listdir(x1_dataset)\n",
        "for file in x1_dataset2[0:int(len(x1_dataset1)* .19)]:\n",
        "  new_path = shutil.move(f\"{x1_dataset}/{file}\",pp_va)\n",
        "\n",
        "#15% data testing\n",
        "x1_dataset3= os.listdir(x1_dataset)\n",
        "for file in x1_dataset3:\n",
        "  new_path = shutil.move(f\"{x1_dataset}/{file}\",pp_ts)\n",
        "\n",
        "\n",
        "#2\n",
        "y2_dataset = '/tmp/brain-tumor/2'\n",
        "os.makedirs('/tmp/brain-tumor/train/2')\n",
        "os.makedirs('/tmp/brain-tumor/val/2')\n",
        "os.makedirs('/tmp/brain-tumor/test/2')\n",
        "\n",
        "rk_tr = os.path.join(train,'2')\n",
        "rk_va = os.path.join(val,'2')\n",
        "rk_ts = os.path.join(test,'2')\n",
        "\n",
        "#70% data training\n",
        "y2_dataset1= os.listdir(y2_dataset)\n",
        "for file in y2_dataset1[0:int(len(y2_dataset1)* .8)]:\n",
        "  new_path = shutil.move(f\"{y2_dataset}/{file}\",rk_tr)\n",
        "\n",
        "#15% data validation\n",
        "y2_dataset2= os.listdir(y2_dataset)\n",
        "for file in y2_dataset2[0:int(len(y2_dataset1)* .19)]:\n",
        "  new_path = shutil.move(f\"{y2_dataset}/{file}\",rk_va)\n",
        "\n",
        "#15% data testing\n",
        "y2_dataset3= os.listdir(y2_dataset)\n",
        "for file in y2_dataset3:\n",
        "  new_path = shutil.move(f\"{y2_dataset}/{file}\",rk_ts)\n",
        "\n",
        "#3\n",
        "z3_dataset = '/tmp/brain-tumor/3'\n",
        "os.makedirs('/tmp/brain-tumor/train/3')\n",
        "os.makedirs('/tmp/brain-tumor/val/3')\n",
        "os.makedirs('/tmp/brain-tumor/test/3')\n",
        "\n",
        "ss_tr = os.path.join(train,'3')\n",
        "ss_va = os.path.join(val,'3')\n",
        "ss_ts = os.path.join(test,'3')\n",
        "\n",
        "#70% data training\n",
        "z3_dataset1= os.listdir(z3_dataset)\n",
        "for file in z3_dataset1[0:int(len(z3_dataset1)* .8)]:\n",
        "  new_path = shutil.move(f\"{z3_dataset}/{file}\",ss_tr)\n",
        "\n",
        "#15% data validation\n",
        "z3_dataset2= os.listdir(z3_dataset)\n",
        "for file in z3_dataset2[0:int(len(z3_dataset1)* .19)]:\n",
        "  new_path = shutil.move(f\"{z3_dataset}/{file}\",ss_va)\n",
        "\n",
        "#15% data testing\n",
        "z3_dataset3= os.listdir(z3_dataset)\n",
        "for file in z3_dataset3:\n",
        "  new_path = shutil.move(f\"{z3_dataset}/{file}\",ss_ts)\n",
        "\n",
        "#file train, val, and test\n",
        "file_train_1 = os.listdir(pp_tr)\n",
        "file_val_1 = os.listdir(pp_va)\n",
        "file_test_1 = os.listdir(pp_ts)\n",
        "file_train_2 = os.listdir(rk_tr)\n",
        "file_val_2 = os.listdir(rk_va)\n",
        "file_test_2 = os.listdir(rk_ts)\n",
        "file_train_3 = os.listdir(ss_tr)\n",
        "file_val_3 = os.listdir(ss_va)\n",
        "file_test_3 = os.listdir(ss_ts)\n",
        "\n",
        "#print jumlah data train, val, and test\n",
        "print(\"Data 1 Train : \" + str(len(file_train_1)))\n",
        "print(\"Data 1 Validation : \" + str(len(file_val_1)))\n",
        "print(\"Data 1 Test : \" + str(len(file_test_1)))\n",
        "print(\"Data 2 Train : \" + str(len(file_train_2)))\n",
        "print(\"Data 2 Validation : \" + str(len(file_val_2)))\n",
        "print(\"Data 2 Test : \" + str(len(file_test_2)))\n",
        "print(\"Data 3 Train : \" + str(len(file_train_3)))\n",
        "print(\"Data 3 Validation : \" + str(len(file_val_3)))\n",
        "print(\"Data 3 Test : \" + str(len(file_test_3)))"
      ],
      "execution_count": null,
      "outputs": [
        {
          "output_type": "stream",
          "name": "stdout",
          "text": [
            "Data 1 Train : 566\n",
            "Data 1 Validation : 134\n",
            "Data 1 Test : 8\n",
            "Data 2 Train : 1140\n",
            "Data 2 Validation : 270\n",
            "Data 2 Test : 16\n",
            "Data 3 Train : 744\n",
            "Data 3 Validation : 176\n",
            "Data 3 Test : 10\n"
          ]
        }
      ]
    },
    {
      "cell_type": "code",
      "metadata": {
        "colab": {
          "base_uri": "https://localhost:8080/"
        },
        "id": "DDo6qoTiBS9i",
        "outputId": "d9e3e040-f3c9-4282-b156-4ec2777ff201"
      },
      "source": [
        "# TULIS KODE ANDA DISINI\n",
        "from tensorflow.keras.preprocessing.image import ImageDataGenerator\n",
        "batch_size=32\n",
        "\n",
        "augmen_gen = ImageDataGenerator(rescale=1/255,rotation_range=30, width_shift_range=0.1,\n",
        "                        height_shift_range=0.1, shear_range=0.2, \n",
        "                        zoom_range=0.8, horizontal_flip=True,\n",
        "                        fill_mode=\"nearest\")\n",
        "#melakukan class mode= metode pemilihan clasifikasi, taret size= dimensi citra, batch size= banyak citra yg dimasukkan setiap step, shuffle= acak data tida sesusai alfabetik\n",
        "train_aug = augmen_gen.flow_from_directory(\n",
        "    '/tmp/brain-tumor/train',\n",
        "    class_mode = 'categorical',\n",
        "    shuffle=True,\n",
        "    target_size = (50,50),\n",
        "    batch_size=batch_size,\n",
        "    color_mode ='rgb'\n",
        ")\n",
        "\n",
        "test_aug = augmen_gen.flow_from_directory(\n",
        "    '/tmp/brain-tumor/val',\n",
        "    class_mode = 'categorical',\n",
        "    shuffle=False,\n",
        "    target_size = (50,50),\n",
        "    batch_size=batch_size,\n",
        "    color_mode ='rgb',\n",
        ")"
      ],
      "execution_count": null,
      "outputs": [
        {
          "output_type": "stream",
          "name": "stdout",
          "text": [
            "Found 2450 images belonging to 3 classes.\n",
            "Found 580 images belonging to 3 classes.\n"
          ]
        }
      ]
    },
    {
      "cell_type": "code",
      "source": [
        "# TULIS KODE ANDA DISINI\n",
        "from tensorflow.keras.models import Sequential\n",
        "from tensorflow.keras.layers import InputLayer, Dense, Conv2D, MaxPool2D, Flatten, BatchNormalization, Dropout\n",
        "from tensorflow.keras.optimizers import Adam\n",
        "\n",
        "# DEFINISIKAN MODEL ANDA DISINI\n",
        "\n",
        "#Feature Selection\n",
        "model = Sequential()\n",
        "\n",
        "model.add(InputLayer(input_shape=[50,50,3]))\n",
        "model.add(Conv2D(filters=64, kernel_size=3, strides=1, padding='same', activation='relu'))\n",
        "model.add(MaxPool2D(pool_size=2, padding='same'))\n",
        "model.add(Conv2D(filters=128, kernel_size=3, strides=1, padding='same', activation='relu'))\n",
        "model.add(MaxPool2D(pool_size=2, padding='same'))\n",
        "model.add(Conv2D(filters=256, kernel_size=3, strides=1, padding='same', activation='relu'))\n",
        "model.add(MaxPool2D(pool_size=2, padding='same'))\n",
        "model.add(Dropout(0.5))\n",
        "model.add(BatchNormalization())\n",
        "model.add(Flatten())\n",
        "\n",
        "#Fully Connected Layer\n",
        "model.add(Dense(128, activation='relu'))\n",
        "model.add(Dense(3, activation='softmax'))\n",
        "print(model.summary())\n"
      ],
      "metadata": {
        "id": "auJTro16ixtv",
        "colab": {
          "base_uri": "https://localhost:8080/"
        },
        "outputId": "4d290158-ba0c-4bab-aa63-17ac82d64c2f"
      },
      "execution_count": null,
      "outputs": [
        {
          "output_type": "stream",
          "name": "stdout",
          "text": [
            "Model: \"sequential\"\n",
            "_________________________________________________________________\n",
            " Layer (type)                Output Shape              Param #   \n",
            "=================================================================\n",
            " conv2d (Conv2D)             (None, 50, 50, 64)        1792      \n",
            "                                                                 \n",
            " max_pooling2d (MaxPooling2D  (None, 25, 25, 64)       0         \n",
            " )                                                               \n",
            "                                                                 \n",
            " conv2d_1 (Conv2D)           (None, 25, 25, 128)       73856     \n",
            "                                                                 \n",
            " max_pooling2d_1 (MaxPooling  (None, 13, 13, 128)      0         \n",
            " 2D)                                                             \n",
            "                                                                 \n",
            " conv2d_2 (Conv2D)           (None, 13, 13, 256)       295168    \n",
            "                                                                 \n",
            " max_pooling2d_2 (MaxPooling  (None, 7, 7, 256)        0         \n",
            " 2D)                                                             \n",
            "                                                                 \n",
            " dropout (Dropout)           (None, 7, 7, 256)         0         \n",
            "                                                                 \n",
            " batch_normalization (BatchN  (None, 7, 7, 256)        1024      \n",
            " ormalization)                                                   \n",
            "                                                                 \n",
            " flatten (Flatten)           (None, 12544)             0         \n",
            "                                                                 \n",
            " dense (Dense)               (None, 128)               1605760   \n",
            "                                                                 \n",
            " dense_1 (Dense)             (None, 3)                 387       \n",
            "                                                                 \n",
            "=================================================================\n",
            "Total params: 1,977,987\n",
            "Trainable params: 1,977,475\n",
            "Non-trainable params: 512\n",
            "_________________________________________________________________\n",
            "None\n"
          ]
        }
      ]
    },
    {
      "cell_type": "code",
      "source": [
        "# tell the model what cost and optimization method to use\n",
        "from tensorflow.keras.optimizers import Adam\n",
        "model.compile(\n",
        "  loss='categorical_crossentropy',\n",
        "  optimizer=Adam(lr=0.001),\n",
        "  metrics=['accuracy']\n",
        ")"
      ],
      "metadata": {
        "id": "tE85ZGIsi1lk"
      },
      "execution_count": null,
      "outputs": []
    },
    {
      "cell_type": "code",
      "source": [
        "# Mencocokan model\n",
        "r = model.fit_generator(\n",
        "  train_aug,\n",
        "  validation_data=test_aug,\n",
        "  epochs=50,\n",
        "  steps_per_epoch=len(train_aug), \n",
        "  validation_steps=len(test_aug)\n",
        ")       "
      ],
      "metadata": {
        "id": "ZZwYER0Gi3WO",
        "colab": {
          "base_uri": "https://localhost:8080/"
        },
        "outputId": "cab8d9bd-10a5-42fb-b089-63544bebd1f0"
      },
      "execution_count": null,
      "outputs": [
        {
          "output_type": "stream",
          "name": "stdout",
          "text": [
            "Epoch 1/50\n",
            "77/77 [==============================] - 50s 461ms/step - loss: 1.0515 - accuracy: 0.4959 - val_loss: 1.0862 - val_accuracy: 0.3172\n",
            "Epoch 2/50\n",
            "77/77 [==============================] - 35s 455ms/step - loss: 0.9282 - accuracy: 0.5514 - val_loss: 0.9966 - val_accuracy: 0.5397\n",
            "Epoch 3/50\n",
            "77/77 [==============================] - 39s 508ms/step - loss: 0.9099 - accuracy: 0.5665 - val_loss: 0.9107 - val_accuracy: 0.5793\n",
            "Epoch 4/50\n",
            "77/77 [==============================] - 35s 458ms/step - loss: 0.8855 - accuracy: 0.5853 - val_loss: 0.9313 - val_accuracy: 0.5207\n",
            "Epoch 5/50\n",
            "77/77 [==============================] - 35s 461ms/step - loss: 0.8590 - accuracy: 0.5980 - val_loss: 0.8746 - val_accuracy: 0.5569\n",
            "Epoch 6/50\n",
            "77/77 [==============================] - 35s 458ms/step - loss: 0.8337 - accuracy: 0.6163 - val_loss: 1.4073 - val_accuracy: 0.3586\n",
            "Epoch 7/50\n",
            "77/77 [==============================] - 35s 455ms/step - loss: 0.8119 - accuracy: 0.6400 - val_loss: 0.8597 - val_accuracy: 0.5948\n",
            "Epoch 8/50\n",
            "77/77 [==============================] - 35s 459ms/step - loss: 0.7784 - accuracy: 0.6486 - val_loss: 0.8498 - val_accuracy: 0.5828\n",
            "Epoch 9/50\n",
            "77/77 [==============================] - 35s 459ms/step - loss: 0.7618 - accuracy: 0.6698 - val_loss: 1.4608 - val_accuracy: 0.5138\n",
            "Epoch 10/50\n",
            "77/77 [==============================] - 36s 463ms/step - loss: 0.7485 - accuracy: 0.6567 - val_loss: 1.2390 - val_accuracy: 0.5328\n",
            "Epoch 11/50\n",
            "77/77 [==============================] - 35s 456ms/step - loss: 0.7131 - accuracy: 0.6841 - val_loss: 1.2788 - val_accuracy: 0.5810\n",
            "Epoch 12/50\n",
            "77/77 [==============================] - 35s 456ms/step - loss: 0.7148 - accuracy: 0.6816 - val_loss: 0.7354 - val_accuracy: 0.6655\n",
            "Epoch 13/50\n",
            "77/77 [==============================] - 35s 454ms/step - loss: 0.6975 - accuracy: 0.6841 - val_loss: 3.6997 - val_accuracy: 0.3276\n",
            "Epoch 14/50\n",
            "77/77 [==============================] - 35s 451ms/step - loss: 0.6839 - accuracy: 0.6980 - val_loss: 1.0649 - val_accuracy: 0.6138\n",
            "Epoch 15/50\n",
            "77/77 [==============================] - 35s 454ms/step - loss: 0.6729 - accuracy: 0.7118 - val_loss: 1.0294 - val_accuracy: 0.6190\n",
            "Epoch 16/50\n",
            "77/77 [==============================] - 35s 457ms/step - loss: 0.6726 - accuracy: 0.7020 - val_loss: 1.0029 - val_accuracy: 0.5931\n",
            "Epoch 17/50\n",
            "77/77 [==============================] - 36s 473ms/step - loss: 0.6464 - accuracy: 0.7241 - val_loss: 0.7821 - val_accuracy: 0.6414\n",
            "Epoch 18/50\n",
            "77/77 [==============================] - 35s 454ms/step - loss: 0.6415 - accuracy: 0.7314 - val_loss: 0.9515 - val_accuracy: 0.6017\n",
            "Epoch 19/50\n",
            "77/77 [==============================] - 35s 452ms/step - loss: 0.6366 - accuracy: 0.7171 - val_loss: 1.3389 - val_accuracy: 0.5362\n",
            "Epoch 20/50\n",
            "77/77 [==============================] - 34s 448ms/step - loss: 0.6361 - accuracy: 0.7229 - val_loss: 0.7354 - val_accuracy: 0.7138\n",
            "Epoch 21/50\n",
            "77/77 [==============================] - 34s 447ms/step - loss: 0.6041 - accuracy: 0.7465 - val_loss: 1.4958 - val_accuracy: 0.5345\n",
            "Epoch 22/50\n",
            "77/77 [==============================] - 34s 448ms/step - loss: 0.5923 - accuracy: 0.7514 - val_loss: 1.2092 - val_accuracy: 0.5810\n",
            "Epoch 23/50\n",
            "77/77 [==============================] - 34s 448ms/step - loss: 0.6090 - accuracy: 0.7478 - val_loss: 3.6496 - val_accuracy: 0.3586\n",
            "Epoch 24/50\n",
            "77/77 [==============================] - 35s 450ms/step - loss: 0.5805 - accuracy: 0.7580 - val_loss: 1.0640 - val_accuracy: 0.6431\n",
            "Epoch 25/50\n",
            "77/77 [==============================] - 35s 454ms/step - loss: 0.5702 - accuracy: 0.7604 - val_loss: 1.1447 - val_accuracy: 0.5845\n",
            "Epoch 26/50\n",
            "77/77 [==============================] - 35s 453ms/step - loss: 0.5719 - accuracy: 0.7600 - val_loss: 1.4712 - val_accuracy: 0.5052\n",
            "Epoch 27/50\n",
            "77/77 [==============================] - 35s 454ms/step - loss: 0.5680 - accuracy: 0.7596 - val_loss: 1.9020 - val_accuracy: 0.5172\n",
            "Epoch 28/50\n",
            "77/77 [==============================] - 35s 454ms/step - loss: 0.5543 - accuracy: 0.7661 - val_loss: 0.5774 - val_accuracy: 0.7655\n",
            "Epoch 29/50\n",
            "77/77 [==============================] - 35s 451ms/step - loss: 0.5375 - accuracy: 0.7755 - val_loss: 0.6886 - val_accuracy: 0.6966\n",
            "Epoch 30/50\n",
            "77/77 [==============================] - 35s 453ms/step - loss: 0.5262 - accuracy: 0.7849 - val_loss: 0.5444 - val_accuracy: 0.7776\n",
            "Epoch 31/50\n",
            "77/77 [==============================] - 35s 451ms/step - loss: 0.5222 - accuracy: 0.7882 - val_loss: 1.7310 - val_accuracy: 0.4897\n",
            "Epoch 32/50\n",
            "77/77 [==============================] - 35s 451ms/step - loss: 0.5248 - accuracy: 0.7816 - val_loss: 1.7820 - val_accuracy: 0.5241\n",
            "Epoch 33/50\n",
            "77/77 [==============================] - 35s 452ms/step - loss: 0.5254 - accuracy: 0.7722 - val_loss: 1.4836 - val_accuracy: 0.5362\n",
            "Epoch 34/50\n",
            "77/77 [==============================] - 35s 451ms/step - loss: 0.5198 - accuracy: 0.7816 - val_loss: 0.9916 - val_accuracy: 0.5897\n",
            "Epoch 35/50\n",
            "77/77 [==============================] - 34s 448ms/step - loss: 0.5222 - accuracy: 0.7812 - val_loss: 0.6109 - val_accuracy: 0.7448\n",
            "Epoch 36/50\n",
            "77/77 [==============================] - 34s 448ms/step - loss: 0.5240 - accuracy: 0.7820 - val_loss: 0.4913 - val_accuracy: 0.8034\n",
            "Epoch 37/50\n",
            "77/77 [==============================] - 34s 448ms/step - loss: 0.5174 - accuracy: 0.7796 - val_loss: 3.4878 - val_accuracy: 0.3759\n",
            "Epoch 38/50\n",
            "77/77 [==============================] - 34s 448ms/step - loss: 0.4905 - accuracy: 0.7906 - val_loss: 0.5282 - val_accuracy: 0.7552\n",
            "Epoch 39/50\n",
            "77/77 [==============================] - 34s 448ms/step - loss: 0.5121 - accuracy: 0.7816 - val_loss: 0.4967 - val_accuracy: 0.8069\n",
            "Epoch 40/50\n",
            "77/77 [==============================] - 34s 448ms/step - loss: 0.4952 - accuracy: 0.7976 - val_loss: 1.2844 - val_accuracy: 0.5810\n",
            "Epoch 41/50\n",
            "77/77 [==============================] - 34s 447ms/step - loss: 0.4841 - accuracy: 0.7967 - val_loss: 0.5582 - val_accuracy: 0.7759\n",
            "Epoch 42/50\n",
            "77/77 [==============================] - 35s 449ms/step - loss: 0.4728 - accuracy: 0.8004 - val_loss: 0.5632 - val_accuracy: 0.7759\n",
            "Epoch 43/50\n",
            "77/77 [==============================] - 34s 447ms/step - loss: 0.4777 - accuracy: 0.8098 - val_loss: 1.0384 - val_accuracy: 0.6379\n",
            "Epoch 44/50\n",
            "77/77 [==============================] - 34s 448ms/step - loss: 0.4777 - accuracy: 0.7976 - val_loss: 0.6584 - val_accuracy: 0.7345\n",
            "Epoch 45/50\n",
            "77/77 [==============================] - 35s 450ms/step - loss: 0.4833 - accuracy: 0.7943 - val_loss: 0.6106 - val_accuracy: 0.7759\n",
            "Epoch 46/50\n",
            "77/77 [==============================] - 34s 446ms/step - loss: 0.4603 - accuracy: 0.8224 - val_loss: 1.1676 - val_accuracy: 0.5966\n",
            "Epoch 47/50\n",
            "77/77 [==============================] - 34s 446ms/step - loss: 0.4666 - accuracy: 0.8122 - val_loss: 0.8983 - val_accuracy: 0.6672\n",
            "Epoch 48/50\n",
            "77/77 [==============================] - 34s 446ms/step - loss: 0.4628 - accuracy: 0.8090 - val_loss: 0.4370 - val_accuracy: 0.8103\n",
            "Epoch 49/50\n",
            "77/77 [==============================] - 34s 447ms/step - loss: 0.4394 - accuracy: 0.8290 - val_loss: 0.4656 - val_accuracy: 0.8069\n",
            "Epoch 50/50\n",
            "77/77 [==============================] - 34s 445ms/step - loss: 0.4686 - accuracy: 0.8053 - val_loss: 0.4672 - val_accuracy: 0.8259\n"
          ]
        }
      ]
    },
    {
      "cell_type": "code",
      "source": [
        "fig, ax = plt.subplots(figsize=(20, 4), nrows=1, ncols=2)  \n",
        "\n",
        "ax[0].plot(r.history['loss'], color='b', label=\"Training Loss\")\n",
        "ax[0].plot(r.history['val_loss'], color='r', label=\"Testing Loss\",axes =ax[0])\n",
        "legend = ax[0].legend(loc='best', shadow=True)\n",
        "\n",
        "ax[1].plot(r.history['accuracy'], color='b', label=\"Training Accuracy\")\n",
        "ax[1].plot(r.history['val_accuracy'], color='r',label=\"Testing Accuracy\")\n",
        "legend = ax[1].legend(loc='best', shadow=True)  "
      ],
      "metadata": {
        "id": "1EOxudgci5JI",
        "colab": {
          "base_uri": "https://localhost:8080/",
          "height": 265
        },
        "outputId": "ae2e9bb8-1ad6-4c24-f553-ccfce5a43458"
      },
      "execution_count": null,
      "outputs": [
        {
          "output_type": "display_data",
          "data": {
            "image/png": "[encoded data removed]",
            "text/plain": [
              "<Figure size 1440x288 with 2 Axes>"
            ]
          },
          "metadata": {
            "needs_background": "light"
          }
        }
      ]
    },
    {
      "cell_type": "code",
      "source": [
        "from sklearn.metrics import classification_report\n",
        "ypred = model.predict(test_aug)\n",
        "prediction = np.argmax(ypred, axis=1)\n",
        "print(classification_report(test_aug.classes, prediction))"
      ],
      "metadata": {
        "id": "Ru9cpTXCi66n",
        "colab": {
          "base_uri": "https://localhost:8080/"
        },
        "outputId": "0226fc8a-075e-4857-a374-f0de7cb4026c"
      },
      "execution_count": null,
      "outputs": [
        {
          "output_type": "stream",
          "name": "stdout",
          "text": [
            "              precision    recall  f1-score   support\n",
            "\n",
            "           0       0.77      0.69      0.72       134\n",
            "           1       0.88      0.83      0.85       270\n",
            "           2       0.78      0.91      0.84       176\n",
            "\n",
            "    accuracy                           0.82       580\n",
            "   macro avg       0.81      0.81      0.81       580\n",
            "weighted avg       0.82      0.82      0.82       580\n",
            "\n"
          ]
        }
      ]
    },
    {
      "cell_type": "code",
      "source": [
        "import tensorflow as tf\n",
        "from google.colab import files\n",
        "# (to generate a SavedModel)\n",
        "model.save('modelc1.h5')\n",
        "files.download('modelc1.h5')\n",
        "\n",
        "\n"
      ],
      "metadata": {
        "id": "7Yi6w2_Vi90G",
        "colab": {
          "base_uri": "https://localhost:8080/",
          "height": 34
        },
        "outputId": "e1a504aa-45b9-4a35-bc36-bbeaaa5a6202"
      },
      "execution_count": null,
      "outputs": [
        {
          "output_type": "display_data",
          "data": {
            "application/javascript": [
              "\n",
              "    async function download(id, filename, size) {\n",
              "      if (!google.colab.kernel.accessAllowed) {\n",
              "        return;\n",
              "      }\n",
              "      const div = document.createElement('div');\n",
              "      const label = document.createElement('label');\n",
              "      label.textContent = `Downloading \"${filename}\": `;\n",
              "      div.appendChild(label);\n",
              "      const progress = document.createElement('progress');\n",
              "      progress.max = size;\n",
              "      div.appendChild(progress);\n",
              "      document.body.appendChild(div);\n",
              "\n",
              "      const buffers = [];\n",
              "      let downloaded = 0;\n",
              "\n",
              "      const channel = await google.colab.kernel.comms.open(id);\n",
              "      // Send a message to notify the kernel that we're ready.\n",
              "      channel.send({})\n",
              "\n",
              "      for await (const message of channel.messages) {\n",
              "        // Send a message to notify the kernel that we're ready.\n",
              "        channel.send({})\n",
              "        if (message.buffers) {\n",
              "          for (const buffer of message.buffers) {\n",
              "            buffers.push(buffer);\n",
              "            downloaded += buffer.byteLength;\n",
              "            progress.value = downloaded;\n",
              "          }\n",
              "        }\n",
              "      }\n",
              "      const blob = new Blob(buffers, {type: 'application/binary'});\n",
              "      const a = document.createElement('a');\n",
              "      a.href = window.URL.createObjectURL(blob);\n",
              "      a.download = filename;\n",
              "      div.appendChild(a);\n",
              "      a.click();\n",
              "      div.remove();\n",
              "    }\n",
              "  "
            ],
            "text/plain": [
              "<IPython.core.display.Javascript object>"
            ]
          },
          "metadata": {}
        },
        {
          "output_type": "display_data",
          "data": {
            "application/javascript": [
              "download(\"download_89ea396c-3ecd-41cd-917d-6187d10997ac\", \"modelc1.h5\", 23795024)"
            ],
            "text/plain": [
              "<IPython.core.display.Javascript object>"
            ]
          },
          "metadata": {}
        }
      ]
    },
    {
      "cell_type": "code",
      "source": [
        "from tensorflow.keras.models import Sequential\n",
        "from tensorflow.keras.layers import InputLayer, Dense, Conv2D, MaxPool2D, Flatten\n",
        "# Feature Extraction Layer\n",
        "model1 = Sequential()\n",
        "\n",
        "model1.add(InputLayer(input_shape=[50,50,3]))\n",
        "model1.add(Conv2D(filters=16, kernel_size=3, strides=1, padding='same', activation='relu'))\n",
        "model1.add(MaxPool2D(pool_size=2, padding='same'))\n",
        "model1.add(Conv2D(filters=32, kernel_size=3, strides=1, padding='same', activation='relu'))\n",
        "model1.add(MaxPool2D(pool_size=2, padding='same'))\n",
        "model1.add(Conv2D(filters=64, kernel_size=3, strides=1, padding='same', activation='relu'))\n",
        "model1.add(MaxPool2D(pool_size=2, padding='same'))\n",
        "model1.add(Flatten())\n",
        "# Fully Connected Layer\n",
        "model1.add(Dense(128, activation='relu'))\n",
        "model1.add(Dense(3, activation='softmax'))\n",
        "# Print model summary\n",
        "print(model1.summary())"
      ],
      "metadata": {
        "id": "6vJblxFsi9wm",
        "colab": {
          "base_uri": "https://localhost:8080/"
        },
        "outputId": "231494a2-dbcb-4a48-ff35-8e3c922ec664"
      },
      "execution_count": null,
      "outputs": [
        {
          "output_type": "stream",
          "name": "stdout",
          "text": [
            "Model: \"sequential_1\"\n",
            "_________________________________________________________________\n",
            " Layer (type)                Output Shape              Param #   \n",
            "=================================================================\n",
            " conv2d_3 (Conv2D)           (None, 50, 50, 16)        448       \n",
            "                                                                 \n",
            " max_pooling2d_3 (MaxPooling  (None, 25, 25, 16)       0         \n",
            " 2D)                                                             \n",
            "                                                                 \n",
            " conv2d_4 (Conv2D)           (None, 25, 25, 32)        4640      \n",
            "                                                                 \n",
            " max_pooling2d_4 (MaxPooling  (None, 13, 13, 32)       0         \n",
            " 2D)                                                             \n",
            "                                                                 \n",
            " conv2d_5 (Conv2D)           (None, 13, 13, 64)        18496     \n",
            "                                                                 \n",
            " max_pooling2d_5 (MaxPooling  (None, 7, 7, 64)         0         \n",
            " 2D)                                                             \n",
            "                                                                 \n",
            " flatten_1 (Flatten)         (None, 3136)              0         \n",
            "                                                                 \n",
            " dense_2 (Dense)             (None, 128)               401536    \n",
            "                                                                 \n",
            " dense_3 (Dense)             (None, 3)                 387       \n",
            "                                                                 \n",
            "=================================================================\n",
            "Total params: 425,507\n",
            "Trainable params: 425,507\n",
            "Non-trainable params: 0\n",
            "_________________________________________________________________\n",
            "None\n"
          ]
        }
      ]
    },
    {
      "cell_type": "code",
      "source": [
        "# tell the model what cost and optimization method to use\n",
        "from tensorflow.keras.optimizers import Adam\n",
        "model1.compile(\n",
        "  loss='categorical_crossentropy',\n",
        "  optimizer=Adam(lr=0.001),\n",
        "  metrics=['accuracy']\n",
        ")"
      ],
      "metadata": {
        "id": "z7w8GQovi9oN"
      },
      "execution_count": null,
      "outputs": []
    },
    {
      "cell_type": "code",
      "source": [
        "H1 = model1.fit_generator(\n",
        "  train_aug,\n",
        "  validation_data=test_aug,\n",
        "  epochs=50,\n",
        "  steps_per_epoch=len(train_aug),\n",
        "  validation_steps=len(test_aug)\n",
        ")      "
      ],
      "metadata": {
        "id": "ue7djHYqjK9Q",
        "colab": {
          "base_uri": "https://localhost:8080/"
        },
        "outputId": "6b4e4399-9817-4874-dda3-cf0024437edb"
      },
      "execution_count": null,
      "outputs": [
        {
          "output_type": "stream",
          "name": "stdout",
          "text": [
            "Epoch 1/50\n",
            "77/77 [==============================] - 35s 452ms/step - loss: 1.0366 - accuracy: 0.4808 - val_loss: 1.0212 - val_accuracy: 0.4966\n",
            "Epoch 2/50\n",
            "77/77 [==============================] - 34s 443ms/step - loss: 0.9947 - accuracy: 0.5139 - val_loss: 0.9238 - val_accuracy: 0.5724\n",
            "Epoch 3/50\n",
            "77/77 [==============================] - 34s 443ms/step - loss: 0.9030 - accuracy: 0.5694 - val_loss: 0.9019 - val_accuracy: 0.5672\n",
            "Epoch 4/50\n",
            "77/77 [==============================] - 34s 445ms/step - loss: 0.8868 - accuracy: 0.5829 - val_loss: 0.8467 - val_accuracy: 0.6086\n",
            "Epoch 5/50\n",
            "77/77 [==============================] - 34s 444ms/step - loss: 0.8645 - accuracy: 0.6000 - val_loss: 0.8261 - val_accuracy: 0.6086\n",
            "Epoch 6/50\n",
            "77/77 [==============================] - 34s 447ms/step - loss: 0.8178 - accuracy: 0.6273 - val_loss: 0.7873 - val_accuracy: 0.6293\n",
            "Epoch 7/50\n",
            "77/77 [==============================] - 34s 443ms/step - loss: 0.7805 - accuracy: 0.6453 - val_loss: 0.7571 - val_accuracy: 0.6259\n",
            "Epoch 8/50\n",
            "77/77 [==============================] - 34s 445ms/step - loss: 0.7822 - accuracy: 0.6473 - val_loss: 0.7277 - val_accuracy: 0.6828\n",
            "Epoch 9/50\n",
            "77/77 [==============================] - 34s 445ms/step - loss: 0.7364 - accuracy: 0.6706 - val_loss: 0.7330 - val_accuracy: 0.6845\n",
            "Epoch 10/50\n",
            "77/77 [==============================] - 34s 444ms/step - loss: 0.7352 - accuracy: 0.6604 - val_loss: 0.8071 - val_accuracy: 0.6293\n",
            "Epoch 11/50\n",
            "77/77 [==============================] - 34s 443ms/step - loss: 0.7317 - accuracy: 0.6637 - val_loss: 0.7248 - val_accuracy: 0.6966\n",
            "Epoch 12/50\n",
            "77/77 [==============================] - 34s 443ms/step - loss: 0.6887 - accuracy: 0.6959 - val_loss: 0.6645 - val_accuracy: 0.7086\n",
            "Epoch 13/50\n",
            "77/77 [==============================] - 34s 445ms/step - loss: 0.7006 - accuracy: 0.6841 - val_loss: 0.8053 - val_accuracy: 0.6431\n",
            "Epoch 14/50\n",
            "77/77 [==============================] - 34s 442ms/step - loss: 0.7004 - accuracy: 0.6951 - val_loss: 0.7839 - val_accuracy: 0.6517\n",
            "Epoch 15/50\n",
            "77/77 [==============================] - 34s 443ms/step - loss: 0.6651 - accuracy: 0.7029 - val_loss: 0.7776 - val_accuracy: 0.6328\n",
            "Epoch 16/50\n",
            "77/77 [==============================] - 34s 443ms/step - loss: 0.6756 - accuracy: 0.7041 - val_loss: 0.6893 - val_accuracy: 0.7086\n",
            "Epoch 17/50\n",
            "77/77 [==============================] - 34s 443ms/step - loss: 0.6649 - accuracy: 0.7012 - val_loss: 0.6430 - val_accuracy: 0.7121\n",
            "Epoch 18/50\n",
            "77/77 [==============================] - 34s 443ms/step - loss: 0.6305 - accuracy: 0.7265 - val_loss: 0.6561 - val_accuracy: 0.7224\n",
            "Epoch 19/50\n",
            "77/77 [==============================] - 34s 444ms/step - loss: 0.6347 - accuracy: 0.7363 - val_loss: 0.5973 - val_accuracy: 0.7586\n",
            "Epoch 20/50\n",
            "77/77 [==============================] - 34s 448ms/step - loss: 0.6163 - accuracy: 0.7408 - val_loss: 0.6195 - val_accuracy: 0.7293\n",
            "Epoch 21/50\n",
            "77/77 [==============================] - 34s 446ms/step - loss: 0.6040 - accuracy: 0.7367 - val_loss: 0.6067 - val_accuracy: 0.7362\n",
            "Epoch 22/50\n",
            "77/77 [==============================] - 35s 450ms/step - loss: 0.6143 - accuracy: 0.7290 - val_loss: 0.6364 - val_accuracy: 0.7155\n",
            "Epoch 23/50\n",
            "77/77 [==============================] - 34s 449ms/step - loss: 0.6184 - accuracy: 0.7441 - val_loss: 0.6098 - val_accuracy: 0.7431\n",
            "Epoch 24/50\n",
            "77/77 [==============================] - 34s 448ms/step - loss: 0.6143 - accuracy: 0.7363 - val_loss: 0.5711 - val_accuracy: 0.7586\n",
            "Epoch 25/50\n",
            "77/77 [==============================] - 34s 448ms/step - loss: 0.5811 - accuracy: 0.7478 - val_loss: 0.6160 - val_accuracy: 0.7328\n",
            "Epoch 26/50\n",
            "77/77 [==============================] - 34s 449ms/step - loss: 0.5914 - accuracy: 0.7441 - val_loss: 0.5925 - val_accuracy: 0.7448\n",
            "Epoch 27/50\n",
            "77/77 [==============================] - 34s 448ms/step - loss: 0.5759 - accuracy: 0.7527 - val_loss: 0.5364 - val_accuracy: 0.7793\n",
            "Epoch 28/50\n",
            "77/77 [==============================] - 34s 447ms/step - loss: 0.5579 - accuracy: 0.7641 - val_loss: 0.5599 - val_accuracy: 0.7707\n",
            "Epoch 29/50\n",
            "77/77 [==============================] - 34s 448ms/step - loss: 0.6020 - accuracy: 0.7396 - val_loss: 0.5869 - val_accuracy: 0.7655\n",
            "Epoch 30/50\n",
            "77/77 [==============================] - 34s 448ms/step - loss: 0.5736 - accuracy: 0.7478 - val_loss: 0.5324 - val_accuracy: 0.7828\n",
            "Epoch 31/50\n",
            "77/77 [==============================] - 34s 448ms/step - loss: 0.5507 - accuracy: 0.7731 - val_loss: 0.5518 - val_accuracy: 0.7500\n",
            "Epoch 32/50\n",
            "77/77 [==============================] - 35s 450ms/step - loss: 0.5496 - accuracy: 0.7678 - val_loss: 0.5380 - val_accuracy: 0.7724\n",
            "Epoch 33/50\n",
            "77/77 [==============================] - 34s 447ms/step - loss: 0.5388 - accuracy: 0.7796 - val_loss: 0.5743 - val_accuracy: 0.7534\n",
            "Epoch 34/50\n",
            "77/77 [==============================] - 35s 450ms/step - loss: 0.5396 - accuracy: 0.7690 - val_loss: 0.5292 - val_accuracy: 0.7759\n",
            "Epoch 35/50\n",
            "77/77 [==============================] - 34s 447ms/step - loss: 0.5459 - accuracy: 0.7706 - val_loss: 0.5545 - val_accuracy: 0.7655\n",
            "Epoch 36/50\n",
            "77/77 [==============================] - 34s 445ms/step - loss: 0.5342 - accuracy: 0.7767 - val_loss: 0.5250 - val_accuracy: 0.7759\n",
            "Epoch 37/50\n",
            "77/77 [==============================] - 34s 447ms/step - loss: 0.5301 - accuracy: 0.7755 - val_loss: 0.5100 - val_accuracy: 0.7914\n",
            "Epoch 38/50\n",
            "77/77 [==============================] - 34s 447ms/step - loss: 0.4893 - accuracy: 0.7976 - val_loss: 0.5266 - val_accuracy: 0.7776\n",
            "Epoch 39/50\n",
            "77/77 [==============================] - 35s 450ms/step - loss: 0.5192 - accuracy: 0.7800 - val_loss: 0.5228 - val_accuracy: 0.7672\n",
            "Epoch 40/50\n",
            "77/77 [==============================] - 35s 450ms/step - loss: 0.5125 - accuracy: 0.7869 - val_loss: 0.4860 - val_accuracy: 0.7966\n",
            "Epoch 41/50\n",
            "77/77 [==============================] - 35s 450ms/step - loss: 0.4935 - accuracy: 0.7902 - val_loss: 0.5099 - val_accuracy: 0.7828\n",
            "Epoch 42/50\n",
            "77/77 [==============================] - 35s 450ms/step - loss: 0.5095 - accuracy: 0.7943 - val_loss: 0.4764 - val_accuracy: 0.8293\n",
            "Epoch 43/50\n",
            "77/77 [==============================] - 35s 449ms/step - loss: 0.4906 - accuracy: 0.7984 - val_loss: 0.4882 - val_accuracy: 0.7931\n",
            "Epoch 44/50\n",
            "77/77 [==============================] - 35s 450ms/step - loss: 0.4841 - accuracy: 0.7927 - val_loss: 0.4930 - val_accuracy: 0.7948\n",
            "Epoch 45/50\n",
            "77/77 [==============================] - 34s 446ms/step - loss: 0.4844 - accuracy: 0.7976 - val_loss: 0.4862 - val_accuracy: 0.7776\n",
            "Epoch 46/50\n",
            "77/77 [==============================] - 34s 449ms/step - loss: 0.4713 - accuracy: 0.8078 - val_loss: 0.5081 - val_accuracy: 0.7741\n",
            "Epoch 47/50\n",
            "77/77 [==============================] - 35s 450ms/step - loss: 0.4799 - accuracy: 0.7980 - val_loss: 0.4614 - val_accuracy: 0.8190\n",
            "Epoch 48/50\n",
            "77/77 [==============================] - 34s 448ms/step - loss: 0.4743 - accuracy: 0.8041 - val_loss: 0.4785 - val_accuracy: 0.8000\n",
            "Epoch 49/50\n",
            "77/77 [==============================] - 35s 449ms/step - loss: 0.4635 - accuracy: 0.8139 - val_loss: 0.5090 - val_accuracy: 0.7828\n",
            "Epoch 50/50\n",
            "77/77 [==============================] - 34s 449ms/step - loss: 0.4758 - accuracy: 0.7984 - val_loss: 0.4825 - val_accuracy: 0.8121\n"
          ]
        }
      ]
    },
    {
      "cell_type": "code",
      "source": [
        "fig, ax = plt.subplots(figsize=(20, 4), nrows=1, ncols=2)\n",
        "\n",
        "ax[0].plot(H1.history['loss'], color='b', label=\"Training Loss\")\n",
        "ax[0].plot(H1.history['val_loss'], color='r', label=\"Testing Loss\",axes =ax[0])\n",
        "legend = ax[0].legend(loc='best', shadow=True)\n",
        "\n",
        "ax[1].plot(H1.history['accuracy'], color='b', label=\"Training Accuracy\")\n",
        "ax[1].plot(H1.history['val_accuracy'], color='r',label=\"Testing Accuracy\")\n",
        "legend = ax[1].legend(loc='best', shadow=True) "
      ],
      "metadata": {
        "id": "Z7SdAgRNjK54",
        "colab": {
          "base_uri": "https://localhost:8080/"
        },
        "outputId": "1df7ba84-7297-49af-f4eb-42371e63aa25"
      },
      "execution_count": null,
      "outputs": [
        {
          "output_type": "display_data",
          "data": {
            "image/png": "[encoded data removed]",
            "text/plain": [
              "<Figure size 1440x288 with 2 Axes>"
            ]
          },
          "metadata": {
            "needs_background": "light"
          }
        }
      ]
    },
    {
      "cell_type": "code",
      "source": [
        "from sklearn.metrics import classification_report\n",
        "ypred = model1.predict(test_aug)\n",
        "prediction = np.argmax(ypred, axis=1)\n",
        "print(classification_report(test_aug.classes, prediction))"
      ],
      "metadata": {
        "id": "5NRC77rKjK2j",
        "colab": {
          "base_uri": "https://localhost:8080/"
        },
        "outputId": "882b19e6-55d8-45d5-d87b-c309ba4e4f58"
      },
      "execution_count": null,
      "outputs": [
        {
          "output_type": "stream",
          "name": "stdout",
          "text": [
            "              precision    recall  f1-score   support\n",
            "\n",
            "           0       0.75      0.72      0.73       134\n",
            "           1       0.85      0.83      0.84       270\n",
            "           2       0.82      0.89      0.85       176\n",
            "\n",
            "    accuracy                           0.82       580\n",
            "   macro avg       0.81      0.81      0.81       580\n",
            "weighted avg       0.82      0.82      0.82       580\n",
            "\n"
          ]
        }
      ]
    },
    {
      "cell_type": "code",
      "source": [
        "# (to generate a SavedModel) \n",
        "model1.save('modelc2.h5')\n",
        "files.download('modelc2.h5')\n",
        "\n",
        "\n",
        "\n",
        "from google.colab import files\n"
      ],
      "metadata": {
        "id": "4QB3nAWgjKzH",
        "colab": {
          "base_uri": "https://localhost:8080/",
          "height": 34
        },
        "outputId": "22faff5d-4a78-4c23-9220-e349ab0d377f"
      },
      "execution_count": null,
      "outputs": [
        {
          "output_type": "display_data",
          "data": {
            "application/javascript": [
              "\n",
              "    async function download(id, filename, size) {\n",
              "      if (!google.colab.kernel.accessAllowed) {\n",
              "        return;\n",
              "      }\n",
              "      const div = document.createElement('div');\n",
              "      const label = document.createElement('label');\n",
              "      label.textContent = `Downloading \"${filename}\": `;\n",
              "      div.appendChild(label);\n",
              "      const progress = document.createElement('progress');\n",
              "      progress.max = size;\n",
              "      div.appendChild(progress);\n",
              "      document.body.appendChild(div);\n",
              "\n",
              "      const buffers = [];\n",
              "      let downloaded = 0;\n",
              "\n",
              "      const channel = await google.colab.kernel.comms.open(id);\n",
              "      // Send a message to notify the kernel that we're ready.\n",
              "      channel.send({})\n",
              "\n",
              "      for await (const message of channel.messages) {\n",
              "        // Send a message to notify the kernel that we're ready.\n",
              "        channel.send({})\n",
              "        if (message.buffers) {\n",
              "          for (const buffer of message.buffers) {\n",
              "            buffers.push(buffer);\n",
              "            downloaded += buffer.byteLength;\n",
              "            progress.value = downloaded;\n",
              "          }\n",
              "        }\n",
              "      }\n",
              "      const blob = new Blob(buffers, {type: 'application/binary'});\n",
              "      const a = document.createElement('a');\n",
              "      a.href = window.URL.createObjectURL(blob);\n",
              "      a.download = filename;\n",
              "      div.appendChild(a);\n",
              "      a.click();\n",
              "      div.remove();\n",
              "    }\n",
              "  "
            ],
            "text/plain": [
              "<IPython.core.display.Javascript object>"
            ]
          },
          "metadata": {}
        },
        {
          "output_type": "display_data",
          "data": {
            "application/javascript": [
              "download(\"download_19f07264-0a1d-4a98-884a-bdb8e071a9d6\", \"modelc2.h5\", 5161592)"
            ],
            "text/plain": [
              "<IPython.core.display.Javascript object>"
            ]
          },
          "metadata": {}
        }
      ]
    },
    {
      "cell_type": "code",
      "metadata": {
        "id": "5mNtqiW_aQRB",
        "colab": {
          "base_uri": "https://localhost:8080/"
        },
        "outputId": "7ef60275-8402-475b-f0f0-62ff573a46c3"
      },
      "source": [
        "# Tulis Kode Anda Disini\n",
        "from tensorflow.keras.models import Sequential\n",
        "from tensorflow.keras.layers import InputLayer, Dense, Conv2D, MaxPool2D, Flatten, GlobalMaxPooling2D, AveragePooling2D, GlobalMaxPooling2D, GlobalAveragePooling2D\n",
        "model2 = Sequential()\n",
        "\n",
        "model2.add(InputLayer(input_shape=[250,250,3]))\n",
        "model2.add(Conv2D(filters=16, kernel_size=3, strides=1, padding='same', activation='relu'))\n",
        "model2.add(AveragePooling2D(pool_size=2, padding='same'))\n",
        "model2.add(Conv2D(filters=32, kernel_size=3, strides=1, padding='same', activation='relu'))\n",
        "model2.add(AveragePooling2D(pool_size=2, padding='same'))\n",
        "model2.add(Conv2D(filters=64, kernel_size=3, strides=1, padding='same', activation='relu'))\n",
        "model2.add(AveragePooling2D(pool_size=2, padding='same'))\n",
        "model2.add(GlobalAveragePooling2D())\n",
        "model2.add(Flatten())\n",
        "\n",
        "# Fully Connected Layer\n",
        "model2.add(Dense(128, activation='relu'))\n",
        "model2.add(Dense(3, activation='softmax'))\n",
        "\n",
        "print(model2.summary())"
      ],
      "execution_count": null,
      "outputs": [
        {
          "output_type": "stream",
          "name": "stdout",
          "text": [
            "Model: \"sequential_2\"\n",
            "_________________________________________________________________\n",
            " Layer (type)                Output Shape              Param #   \n",
            "=================================================================\n",
            " conv2d_6 (Conv2D)           (None, 250, 250, 16)      448       \n",
            "                                                                 \n",
            " average_pooling2d (AverageP  (None, 125, 125, 16)     0         \n",
            " ooling2D)                                                       \n",
            "                                                                 \n",
            " conv2d_7 (Conv2D)           (None, 125, 125, 32)      4640      \n",
            "                                                                 \n",
            " average_pooling2d_1 (Averag  (None, 63, 63, 32)       0         \n",
            " ePooling2D)                                                     \n",
            "                                                                 \n",
            " conv2d_8 (Conv2D)           (None, 63, 63, 64)        18496     \n",
            "                                                                 \n",
            " average_pooling2d_2 (Averag  (None, 32, 32, 64)       0         \n",
            " ePooling2D)                                                     \n",
            "                                                                 \n",
            " global_average_pooling2d (G  (None, 64)               0         \n",
            " lobalAveragePooling2D)                                          \n",
            "                                                                 \n",
            " flatten_2 (Flatten)         (None, 64)                0         \n",
            "                                                                 \n",
            " dense_4 (Dense)             (None, 128)               8320      \n",
            "                                                                 \n",
            " dense_5 (Dense)             (None, 3)                 387       \n",
            "                                                                 \n",
            "=================================================================\n",
            "Total params: 32,291\n",
            "Trainable params: 32,291\n",
            "Non-trainable params: 0\n",
            "_________________________________________________________________\n",
            "None\n"
          ]
        }
      ]
    },
    {
      "cell_type": "code",
      "metadata": {
        "id": "zGM8R5sMaSG7"
      },
      "source": [
        "# Compile model1\n",
        "from tensorflow.keras.optimizers import Adam\n",
        "\n",
        "model2.compile(optimizer=Adam(lr=0.001), \n",
        "              loss='categorical_crossentropy', \n",
        "              metrics=['acc'])"
      ],
      "execution_count": null,
      "outputs": []
    },
    {
      "cell_type": "code",
      "metadata": {
        "id": "-imvGamcaTv4",
        "colab": {
          "base_uri": "https://localhost:8080/"
        },
        "outputId": "d2baf9cf-10b4-4de3-f231-8ab411e92345"
      },
      "source": [
        "H2 = model2.fit_generator(\n",
        "  train_aug,\n",
        "  validation_data=test_aug,\n",
        "  epochs=50,\n",
        "  steps_per_epoch=len(train_aug),\n",
        "  validation_steps=len(test_aug)\n",
        ")      "
      ],
      "execution_count": null,
      "outputs": [
        {
          "output_type": "stream",
          "name": "stdout",
          "text": [
            "Epoch 1/50\n",
            "77/77 [==============================] - 35s 453ms/step - loss: 1.0557 - acc: 0.4616 - val_loss: 1.0332 - val_acc: 0.4655\n",
            "Epoch 2/50\n",
            "77/77 [==============================] - 34s 445ms/step - loss: 1.0266 - acc: 0.4800 - val_loss: 1.0134 - val_acc: 0.4931\n",
            "Epoch 3/50\n",
            "77/77 [==============================] - 34s 447ms/step - loss: 1.0134 - acc: 0.5004 - val_loss: 1.0237 - val_acc: 0.4810\n",
            "Epoch 4/50\n",
            "77/77 [==============================] - 34s 445ms/step - loss: 1.0120 - acc: 0.4845 - val_loss: 0.9677 - val_acc: 0.5172\n",
            "Epoch 5/50\n",
            "77/77 [==============================] - 34s 441ms/step - loss: 0.9885 - acc: 0.5053 - val_loss: 0.9547 - val_acc: 0.5362\n",
            "Epoch 6/50\n",
            "77/77 [==============================] - 34s 441ms/step - loss: 0.9659 - acc: 0.5253 - val_loss: 0.9916 - val_acc: 0.4931\n",
            "Epoch 7/50\n",
            "77/77 [==============================] - 34s 442ms/step - loss: 0.9469 - acc: 0.5380 - val_loss: 0.9642 - val_acc: 0.5345\n",
            "Epoch 8/50\n",
            "77/77 [==============================] - 34s 444ms/step - loss: 0.9539 - acc: 0.5208 - val_loss: 0.9360 - val_acc: 0.5466\n",
            "Epoch 9/50\n",
            "77/77 [==============================] - 34s 442ms/step - loss: 0.9403 - acc: 0.5367 - val_loss: 0.9388 - val_acc: 0.5362\n",
            "Epoch 10/50\n",
            "77/77 [==============================] - 34s 443ms/step - loss: 0.9422 - acc: 0.5376 - val_loss: 0.9446 - val_acc: 0.5448\n",
            "Epoch 11/50\n",
            "77/77 [==============================] - 34s 441ms/step - loss: 0.9305 - acc: 0.5367 - val_loss: 0.9339 - val_acc: 0.5293\n",
            "Epoch 12/50\n",
            "77/77 [==============================] - 34s 443ms/step - loss: 0.9184 - acc: 0.5510 - val_loss: 0.9687 - val_acc: 0.5086\n",
            "Epoch 13/50\n",
            "77/77 [==============================] - 34s 442ms/step - loss: 0.9192 - acc: 0.5539 - val_loss: 0.9086 - val_acc: 0.5448\n",
            "Epoch 14/50\n",
            "77/77 [==============================] - 34s 444ms/step - loss: 0.9351 - acc: 0.5563 - val_loss: 0.9168 - val_acc: 0.5362\n",
            "Epoch 15/50\n",
            "77/77 [==============================] - 34s 444ms/step - loss: 0.9125 - acc: 0.5514 - val_loss: 0.8968 - val_acc: 0.5397\n",
            "Epoch 16/50\n",
            "77/77 [==============================] - 34s 442ms/step - loss: 0.9066 - acc: 0.5702 - val_loss: 0.9102 - val_acc: 0.5569\n",
            "Epoch 17/50\n",
            "77/77 [==============================] - 34s 447ms/step - loss: 0.9032 - acc: 0.5661 - val_loss: 0.9036 - val_acc: 0.5552\n",
            "Epoch 18/50\n",
            "77/77 [==============================] - 34s 444ms/step - loss: 0.8971 - acc: 0.5624 - val_loss: 0.9136 - val_acc: 0.5569\n",
            "Epoch 19/50\n",
            "77/77 [==============================] - 34s 449ms/step - loss: 0.9091 - acc: 0.5694 - val_loss: 0.9409 - val_acc: 0.5621\n",
            "Epoch 20/50\n",
            "77/77 [==============================] - 34s 448ms/step - loss: 0.9001 - acc: 0.5710 - val_loss: 0.8790 - val_acc: 0.5690\n",
            "Epoch 21/50\n",
            "77/77 [==============================] - 34s 446ms/step - loss: 0.9133 - acc: 0.5637 - val_loss: 0.8959 - val_acc: 0.5638\n",
            "Epoch 22/50\n",
            "77/77 [==============================] - 34s 447ms/step - loss: 0.8862 - acc: 0.5833 - val_loss: 0.8879 - val_acc: 0.5776\n",
            "Epoch 23/50\n",
            "77/77 [==============================] - 34s 445ms/step - loss: 0.8888 - acc: 0.5824 - val_loss: 0.8704 - val_acc: 0.6103\n",
            "Epoch 24/50\n",
            "77/77 [==============================] - 34s 448ms/step - loss: 0.8759 - acc: 0.5780 - val_loss: 0.9037 - val_acc: 0.5724\n",
            "Epoch 25/50\n",
            "77/77 [==============================] - 35s 451ms/step - loss: 0.8771 - acc: 0.5841 - val_loss: 0.8925 - val_acc: 0.5741\n",
            "Epoch 26/50\n",
            "77/77 [==============================] - 35s 456ms/step - loss: 0.8783 - acc: 0.5792 - val_loss: 0.8724 - val_acc: 0.5914\n",
            "Epoch 27/50\n",
            "77/77 [==============================] - 34s 449ms/step - loss: 0.8716 - acc: 0.5816 - val_loss: 0.8859 - val_acc: 0.5603\n",
            "Epoch 28/50\n",
            "77/77 [==============================] - 34s 446ms/step - loss: 0.8741 - acc: 0.5947 - val_loss: 0.8393 - val_acc: 0.5931\n",
            "Epoch 29/50\n",
            "77/77 [==============================] - 34s 446ms/step - loss: 0.8759 - acc: 0.5910 - val_loss: 0.8795 - val_acc: 0.5983\n",
            "Epoch 30/50\n",
            "77/77 [==============================] - 34s 443ms/step - loss: 0.8783 - acc: 0.5886 - val_loss: 0.9074 - val_acc: 0.5621\n",
            "Epoch 31/50\n",
            "77/77 [==============================] - 34s 444ms/step - loss: 0.8594 - acc: 0.6086 - val_loss: 0.8711 - val_acc: 0.5845\n",
            "Epoch 32/50\n",
            "77/77 [==============================] - 34s 442ms/step - loss: 0.8526 - acc: 0.6020 - val_loss: 0.8359 - val_acc: 0.6138\n",
            "Epoch 33/50\n",
            "77/77 [==============================] - 34s 442ms/step - loss: 0.8513 - acc: 0.6029 - val_loss: 0.8680 - val_acc: 0.6017\n",
            "Epoch 34/50\n",
            "77/77 [==============================] - 34s 443ms/step - loss: 0.8477 - acc: 0.6041 - val_loss: 0.8452 - val_acc: 0.5948\n",
            "Epoch 35/50\n",
            "77/77 [==============================] - 34s 444ms/step - loss: 0.8251 - acc: 0.6237 - val_loss: 0.8292 - val_acc: 0.5983\n",
            "Epoch 36/50\n",
            "77/77 [==============================] - 38s 494ms/step - loss: 0.8365 - acc: 0.6139 - val_loss: 0.8408 - val_acc: 0.5914\n",
            "Epoch 37/50\n",
            "77/77 [==============================] - 34s 441ms/step - loss: 0.8225 - acc: 0.6298 - val_loss: 0.8349 - val_acc: 0.6052\n",
            "Epoch 38/50\n",
            "77/77 [==============================] - 34s 445ms/step - loss: 0.8227 - acc: 0.6306 - val_loss: 0.8259 - val_acc: 0.5931\n",
            "Epoch 39/50\n",
            "77/77 [==============================] - 34s 443ms/step - loss: 0.8301 - acc: 0.6200 - val_loss: 0.8150 - val_acc: 0.6121\n",
            "Epoch 40/50\n",
            "77/77 [==============================] - 34s 444ms/step - loss: 0.8299 - acc: 0.6147 - val_loss: 0.8274 - val_acc: 0.6103\n",
            "Epoch 41/50\n",
            "77/77 [==============================] - 34s 444ms/step - loss: 0.8006 - acc: 0.6339 - val_loss: 0.8607 - val_acc: 0.6172\n",
            "Epoch 42/50\n",
            "77/77 [==============================] - 34s 443ms/step - loss: 0.8254 - acc: 0.6200 - val_loss: 0.9535 - val_acc: 0.5466\n",
            "Epoch 43/50\n",
            "77/77 [==============================] - 34s 446ms/step - loss: 0.8081 - acc: 0.6359 - val_loss: 0.7856 - val_acc: 0.6414\n",
            "Epoch 44/50\n",
            "77/77 [==============================] - 34s 444ms/step - loss: 0.7882 - acc: 0.6473 - val_loss: 0.8252 - val_acc: 0.6155\n",
            "Epoch 45/50\n",
            "77/77 [==============================] - 34s 444ms/step - loss: 0.7838 - acc: 0.6482 - val_loss: 0.8406 - val_acc: 0.6379\n",
            "Epoch 46/50\n",
            "77/77 [==============================] - 34s 444ms/step - loss: 0.8107 - acc: 0.6376 - val_loss: 0.7902 - val_acc: 0.6500\n",
            "Epoch 47/50\n",
            "77/77 [==============================] - 34s 443ms/step - loss: 0.7821 - acc: 0.6469 - val_loss: 0.8016 - val_acc: 0.6397\n",
            "Epoch 48/50\n",
            "77/77 [==============================] - 34s 444ms/step - loss: 0.8118 - acc: 0.6331 - val_loss: 0.8287 - val_acc: 0.6103\n",
            "Epoch 49/50\n",
            "77/77 [==============================] - 34s 443ms/step - loss: 0.7780 - acc: 0.6506 - val_loss: 0.7706 - val_acc: 0.6379\n",
            "Epoch 50/50\n",
            "77/77 [==============================] - 34s 445ms/step - loss: 0.7830 - acc: 0.6433 - val_loss: 0.7631 - val_acc: 0.6707\n"
          ]
        }
      ]
    },
    {
      "cell_type": "code",
      "metadata": {
        "id": "MLlanoNiDoT2",
        "colab": {
          "base_uri": "https://localhost:8080/"
        },
        "outputId": "67a3764b-7270-4298-f20a-fc4ba9c35f20"
      },
      "source": [
        "plt.style.use(\"ggplot\")\n",
        "plt.figure()\n",
        "plt.plot(np.arange(0, 50), H2.history[\"loss\"], label=\"train_loss\")\n",
        "plt.plot(np.arange(0, 50), H2.history[\"val_loss\"], label=\"test_loss\")\n",
        "plt.title(\"Loss Plot\")\n",
        "plt.xlabel(\"Epoch #\")\n",
        "plt.ylabel(\"Loss\")\n",
        "plt.legend()\n",
        "plt.show()"
      ],
      "execution_count": null,
      "outputs": [
        {
          "output_type": "display_data",
          "data": {
            "image/png": "[encoded data removed]",
            "text/plain": [
              "<Figure size 432x288 with 1 Axes>"
            ]
          },
          "metadata": {}
        }
      ]
    },
    {
      "cell_type": "code",
      "metadata": {
        "id": "Lj8figJHFtdT",
        "colab": {
          "base_uri": "https://localhost:8080/"
        },
        "outputId": "b441bdfe-0eb6-4b25-b008-a5a822a44a78"
      },
      "source": [
        "plt.style.use(\"ggplot\")\n",
        "plt.figure()\n",
        "plt.plot(np.arange(0, 50), H2.history[\"acc\"], label=\"train_acc\")\n",
        "plt.plot(np.arange(0, 50), H2.history[\"val_acc\"], label=\"test_acc\")\n",
        "plt.title(\"Accuracy Plot\")\n",
        "plt.xlabel(\"Epoch #\")\n",
        "plt.ylabel(\"Acc\")\n",
        "plt.legend()\n",
        "plt.show()"
      ],
      "execution_count": null,
      "outputs": [
        {
          "output_type": "display_data",
          "data": {
            "image/png": "[encoded data removed]",
            "text/plain": [
              "<Figure size 432x288 with 1 Axes>"
            ]
          },
          "metadata": {}
        }
      ]
    },
    {
      "cell_type": "code",
      "metadata": {
        "id": "BysF04vnRMjo",
        "colab": {
          "base_uri": "https://localhost:8080/"
        },
        "outputId": "17dc6015-902b-4c84-a6e5-81e24222c189"
      },
      "source": [
        "from sklearn.metrics import classification_report\n",
        "ypred = model2.predict(test_aug)\n",
        "prediction3 = np.argmax(ypred, axis=1)\n",
        "print(classification_report(test_aug.classes, prediction3))"
      ],
      "execution_count": null,
      "outputs": [
        {
          "output_type": "stream",
          "name": "stdout",
          "text": [
            "              precision    recall  f1-score   support\n",
            "\n",
            "           0       0.58      0.32      0.41       134\n",
            "           1       0.73      0.71      0.72       270\n",
            "           2       0.58      0.80      0.67       176\n",
            "\n",
            "    accuracy                           0.65       580\n",
            "   macro avg       0.63      0.61      0.60       580\n",
            "weighted avg       0.65      0.65      0.64       580\n",
            "\n"
          ]
        }
      ]
    },
    {
      "cell_type": "code",
      "source": [
        "import tensorflow as tf\n",
        "model2.save('model3.h5')\n",
        "\n",
        "from google.colab import files\n",
        "files.download('model3.h5')"
      ],
      "metadata": {
        "id": "ap9ZzySIimbS",
        "colab": {
          "base_uri": "https://localhost:8080/",
          "height": 17
        },
        "outputId": "441622e1-025e-48c3-c221-db1da63af5d0"
      },
      "execution_count": null,
      "outputs": [
        {
          "output_type": "display_data",
          "data": {
            "application/javascript": [
              "\n",
              "    async function download(id, filename, size) {\n",
              "      if (!google.colab.kernel.accessAllowed) {\n",
              "        return;\n",
              "      }\n",
              "      const div = document.createElement('div');\n",
              "      const label = document.createElement('label');\n",
              "      label.textContent = `Downloading \"${filename}\": `;\n",
              "      div.appendChild(label);\n",
              "      const progress = document.createElement('progress');\n",
              "      progress.max = size;\n",
              "      div.appendChild(progress);\n",
              "      document.body.appendChild(div);\n",
              "\n",
              "      const buffers = [];\n",
              "      let downloaded = 0;\n",
              "\n",
              "      const channel = await google.colab.kernel.comms.open(id);\n",
              "      // Send a message to notify the kernel that we're ready.\n",
              "      channel.send({})\n",
              "\n",
              "      for await (const message of channel.messages) {\n",
              "        // Send a message to notify the kernel that we're ready.\n",
              "        channel.send({})\n",
              "        if (message.buffers) {\n",
              "          for (const buffer of message.buffers) {\n",
              "            buffers.push(buffer);\n",
              "            downloaded += buffer.byteLength;\n",
              "            progress.value = downloaded;\n",
              "          }\n",
              "        }\n",
              "      }\n",
              "      const blob = new Blob(buffers, {type: 'application/binary'});\n",
              "      const a = document.createElement('a');\n",
              "      a.href = window.URL.createObjectURL(blob);\n",
              "      a.download = filename;\n",
              "      div.appendChild(a);\n",
              "      a.click();\n",
              "      div.remove();\n",
              "    }\n",
              "  "
            ],
            "text/plain": [
              "<IPython.core.display.Javascript object>"
            ]
          },
          "metadata": {}
        },
        {
          "output_type": "display_data",
          "data": {
            "application/javascript": [
              "download(\"download_028e4e60-53b1-4e71-97cd-c0623c4d9349\", \"model3.h5\", 443984)"
            ],
            "text/plain": [
              "<IPython.core.display.Javascript object>"
            ]
          },
          "metadata": {}
        }
      ]
    }
  ]
}
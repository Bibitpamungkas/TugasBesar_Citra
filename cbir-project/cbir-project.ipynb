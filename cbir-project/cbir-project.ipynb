{
  "nbformat": 4,
  "nbformat_minor": 0,
  "metadata": {
    "colab": {
      "name": "cbir-project",
      "provenance": [],
      "collapsed_sections": []
    },
    "kernelspec": {
      "name": "python3",
      "display_name": "Python 3"
    },
    "language_info": {
      "name": "python"
    },
    "accelerator": "GPU"
  },
  "cells": [
    {
      "cell_type": "code",
      "metadata": {
        "id": "DG4wHBH7K71N",
        "colab": {
          "base_uri": "https://localhost:8080/"
        },
        "outputId": "efac3ba3-1a66-4b2f-86d5-dfdfba76321a"
      },
      "source": [
        "# Tulis Program Anda Disini!\n",
        "!pip install kaggle"
      ],
      "execution_count": null,
      "outputs": [
        {
          "output_type": "stream",
          "name": "stdout",
          "text": [
            "Requirement already satisfied: kaggle in /usr/local/lib/python3.7/dist-packages (1.5.12)\n",
            "Requirement already satisfied: requests in /usr/local/lib/python3.7/dist-packages (from kaggle) (2.23.0)\n",
            "Requirement already satisfied: urllib3 in /usr/local/lib/python3.7/dist-packages (from kaggle) (1.24.3)\n",
            "Requirement already satisfied: python-dateutil in /usr/local/lib/python3.7/dist-packages (from kaggle) (2.8.2)\n",
            "Requirement already satisfied: tqdm in /usr/local/lib/python3.7/dist-packages (from kaggle) (4.62.3)\n",
            "Requirement already satisfied: certifi in /usr/local/lib/python3.7/dist-packages (from kaggle) (2021.10.8)\n",
            "Requirement already satisfied: six>=1.10 in /usr/local/lib/python3.7/dist-packages (from kaggle) (1.15.0)\n",
            "Requirement already satisfied: python-slugify in /usr/local/lib/python3.7/dist-packages (from kaggle) (5.0.2)\n",
            "Requirement already satisfied: text-unidecode>=1.3 in /usr/local/lib/python3.7/dist-packages (from python-slugify->kaggle) (1.3)\n",
            "Requirement already satisfied: idna<3,>=2.5 in /usr/local/lib/python3.7/dist-packages (from requests->kaggle) (2.10)\n",
            "Requirement already satisfied: chardet<4,>=3.0.2 in /usr/local/lib/python3.7/dist-packages (from requests->kaggle) (3.0.4)\n"
          ]
        }
      ]
    },
    {
      "cell_type": "code",
      "metadata": {
        "id": "SCakFiyZX0Hv"
      },
      "source": [
        "import os\n",
        "import shutil\n",
        "os.environ['KAGGLE_CONFIG_DIR'] = \"/content/\""
      ],
      "execution_count": null,
      "outputs": []
    },
    {
      "cell_type": "code",
      "metadata": {
        "id": "kaxxBtmSX0MN"
      },
      "source": [
        "# jika anda ingin menggunakan kaggle API untuk mengunduh dataset gunakan\n",
        "# kode berikut untuk membantu anda membuat config kaggle.json\n",
        "# pastikan anda mendaftar akun kaggle terlebih dahulu\n",
        "# kemudian menuju halaman my account dan buat token API anda\n",
        "\n",
        "api_token = {\"username\":\"dharmahafidz\",\"key\":\"c32ea0623741666236f124a2e11f5611\"}\n",
        "import json\n",
        "import zipfile\n",
        "import os\n",
        "with open('/content/kaggle.json', 'w') as file:\n",
        "    json.dump(api_token, file)\n",
        "!chmod 600 /content/kaggle.json"
      ],
      "execution_count": null,
      "outputs": []
    },
    {
      "cell_type": "code",
      "metadata": {
        "colab": {
          "base_uri": "https://localhost:8080/"
        },
        "id": "2V283x7AX0Og",
        "outputId": "3e7c5afe-eaff-476a-ec4d-1ec1cf0792c8"
      },
      "source": [
        "os.makedirs('/content/dataset') \n",
        "%cd dataset"
      ],
      "execution_count": null,
      "outputs": [
        {
          "output_type": "stream",
          "name": "stdout",
          "text": [
            "/content/dataset\n"
          ]
        }
      ]
    },
    {
      "cell_type": "code",
      "metadata": {
        "colab": {
          "base_uri": "https://localhost:8080/"
        },
        "id": "vx5Z-ZPnX0Q5",
        "outputId": "937ecfc8-a0be-46e8-fc3b-5fa970305122"
      },
      "source": [
        "!kaggle datasets download -d rifat963/dhakaai-dhaka-based-traffic-detection-dataset"
      ],
      "execution_count": null,
      "outputs": [
        {
          "output_type": "stream",
          "name": "stdout",
          "text": [
            "Downloading dhakaai-dhaka-based-traffic-detection-dataset.zip to /content/dataset\n",
            "100% 1.43G/1.43G [00:13<00:00, 125MB/s]\n",
            "100% 1.43G/1.43G [00:13<00:00, 114MB/s]\n"
          ]
        }
      ]
    },
    {
      "cell_type": "code",
      "metadata": {
        "id": "JhTpn037X0TP"
      },
      "source": [
        "!unzip \\*.zip &> /dev/null && rm *.zip"
      ],
      "execution_count": null,
      "outputs": []
    },
    {
      "cell_type": "code",
      "metadata": {
        "id": "Qzd1MSIh34qS"
      },
      "source": [
        "import os\n",
        "base_dataset = '/content/dataset/train'\n",
        "class_dir = ['Final Train Dataset']\n",
        "for class_item in class_dir:\n",
        "  cur_dir = base_dataset+\"/\"+class_item\n",
        "  dataset = os.listdir(cur_dir)\n",
        "  for item in dataset:\n",
        "    if not item.endswith(\".jpg\"):\n",
        "        os.remove(os.path.join(cur_dir, item))"
      ],
      "execution_count": null,
      "outputs": []
    },
    {
      "cell_type": "code",
      "metadata": {
        "id": "oIsLzpsjX0X-",
        "colab": {
          "base_uri": "https://localhost:8080/"
        },
        "outputId": "aa799e88-9766-4e6e-cf58-c9d426bef25a"
      },
      "source": [
        "import os\n",
        "\n",
        "base_dir = '/content/dataset'\n",
        "\n",
        "train = os.path.join(base_dir, 'train')\n",
        "test = os.path.join(base_dir, 'test')\n",
        "\n",
        "train1 = os.path.join(base_dir,'train')\n",
        "train = os.path.join(train1,'Final Train Dataset')\n",
        "test1 = os.path.join(base_dir,'test')\n",
        "test = os.path.join(test1,'test')\n",
        "\n",
        "#file training dan test\n",
        "file_train = os.listdir(train)\n",
        "file_test = os.listdir(test)\n",
        "\n",
        "#Print jumlah data training dan test\n",
        "print(\"Data Train : \" + str(len(file_train)))\n",
        "print(\"Data Test : \" + str(len(file_test)))\n"
      ],
      "execution_count": null,
      "outputs": [
        {
          "output_type": "stream",
          "name": "stdout",
          "text": [
            "Data Train : 2844\n",
            "Data Test : 500\n"
          ]
        }
      ]
    },
    {
      "cell_type": "code",
      "metadata": {
        "id": "ompX_ORbX0aI",
        "colab": {
          "base_uri": "https://localhost:8080/"
        },
        "outputId": "09912ee3-c20a-4944-e11f-3bedfc0aef76"
      },
      "source": [
        "# TULIS KODE ANDA DISINI\n",
        "\n",
        "from keras.preprocessing.image import ImageDataGenerator\n",
        "from sklearn.utils import shuffle\n",
        "\n",
        "#melakukan rescaling, rotate,zoom, flip horizontal\n",
        "batch_size = 32\n",
        "augmen_gen = ImageDataGenerator(rescale=1 / 255,\n",
        "                                rotation_range=40,\n",
        "                                width_shift_range=0.2,\n",
        "                                height_shift_range=0.2,\n",
        "                                zoom_range=0.2,\n",
        "                                horizontal_flip=True,\n",
        "                                fill_mode='nearest')\n",
        "#melakukan class mode= metode pemilihan clasifikasi, taret size= dimensi citra, batch size= banyak citra yg dimasukkan setiap step, shuffle= acak data tida sesusai alfabetik\n",
        "train_aug = augmen_gen.flow_from_directory(\n",
        "    '/content/dataset/train',\n",
        "    class_mode = 'binary',\n",
        "    shuffle=True,\n",
        "    target_size = (250,250),\n",
        "    batch_size=batch_size,\n",
        "    color_mode ='rgb'\n",
        ")\n",
        "\n",
        "test_aug = augmen_gen.flow_from_directory(\n",
        "    '/content/dataset/test',\n",
        "    class_mode = 'binary',\n",
        "    shuffle=False,\n",
        "    target_size = (250,250),\n",
        "    batch_size=batch_size,\n",
        "    color_mode ='rgb',\n",
        ")"
      ],
      "execution_count": null,
      "outputs": [
        {
          "output_type": "stream",
          "name": "stdout",
          "text": [
            "Found 2844 images belonging to 1 classes.\n",
            "Found 500 images belonging to 1 classes.\n"
          ]
        }
      ]
    },
    {
      "cell_type": "code",
      "metadata": {
        "id": "kMIOT55MdS5N",
        "colab": {
          "base_uri": "https://localhost:8080/"
        },
        "outputId": "34a37ec0-1952-4c60-e167-874eccc9d1c5"
      },
      "source": [
        "# TULIS KODE ANDA DISINI\n",
        "from tensorflow.keras.models import Sequential\n",
        "from tensorflow.keras.layers import InputLayer, Dense, Conv2D, MaxPool2D, Flatten, BatchNormalization, Dropout\n",
        "\n",
        "\n",
        "# DEFINISIKAN MODEL ANDA DISINI\n",
        "\n",
        "#Dropout = menetapkkan unit input ke 0 setiap langkah pelatihan yg membantu mencegah overviting\n",
        "#BatchNormalization = menerepkan transformasi rata rata nilai antara 0 sampai 1\n",
        "#meratakan input\n",
        "#Feature Selection\n",
        "model = Sequential()\n",
        "\n",
        "model.add(InputLayer(input_shape=[250,250,3]))\n",
        "model.add(Conv2D(filters=64, kernel_size=3, strides=1, padding='same', activation='relu'))\n",
        "model.add(MaxPool2D(pool_size=2, padding='same'))\n",
        "model.add(Conv2D(filters=128, kernel_size=3, strides=1, padding='same', activation='relu'))\n",
        "model.add(MaxPool2D(pool_size=2, padding='same'))\n",
        "model.add(Conv2D(filters=256, kernel_size=3, strides=1, padding='same', activation='relu'))\n",
        "model.add(MaxPool2D(pool_size=2, padding='same'))\n",
        "model.add(Dropout(0.5))\n",
        "model.add(BatchNormalization())\n",
        "model.add(Flatten())\n",
        "\n",
        "#Fully Connected Layer\n",
        "model.add(Dense(128, activation='relu'))\n",
        "model.add(Dense(1, activation='sigmoid'))\n",
        "print(model.summary())"
      ],
      "execution_count": null,
      "outputs": [
        {
          "output_type": "stream",
          "name": "stdout",
          "text": [
            "Model: \"sequential\"\n",
            "_________________________________________________________________\n",
            " Layer (type)                Output Shape              Param #   \n",
            "=================================================================\n",
            " conv2d (Conv2D)             (None, 250, 250, 64)      1792      \n",
            "                                                                 \n",
            " max_pooling2d (MaxPooling2D  (None, 125, 125, 64)     0         \n",
            " )                                                               \n",
            "                                                                 \n",
            " conv2d_1 (Conv2D)           (None, 125, 125, 128)     73856     \n",
            "                                                                 \n",
            " max_pooling2d_1 (MaxPooling  (None, 63, 63, 128)      0         \n",
            " 2D)                                                             \n",
            "                                                                 \n",
            " conv2d_2 (Conv2D)           (None, 63, 63, 256)       295168    \n",
            "                                                                 \n",
            " max_pooling2d_2 (MaxPooling  (None, 32, 32, 256)      0         \n",
            " 2D)                                                             \n",
            "                                                                 \n",
            " dropout (Dropout)           (None, 32, 32, 256)       0         \n",
            "                                                                 \n",
            " batch_normalization (BatchN  (None, 32, 32, 256)      1024      \n",
            " ormalization)                                                   \n",
            "                                                                 \n",
            " flatten (Flatten)           (None, 262144)            0         \n",
            "                                                                 \n",
            " dense (Dense)               (None, 128)               33554560  \n",
            "                                                                 \n",
            " dense_1 (Dense)             (None, 1)                 129       \n",
            "                                                                 \n",
            "=================================================================\n",
            "Total params: 33,926,529\n",
            "Trainable params: 33,926,017\n",
            "Non-trainable params: 512\n",
            "_________________________________________________________________\n",
            "None\n"
          ]
        }
      ]
    },
    {
      "cell_type": "code",
      "metadata": {
        "id": "hox5pHRbdS-2",
        "colab": {
          "base_uri": "https://localhost:8080/"
        },
        "outputId": "14949f55-0a6e-4966-e9c7-2cccbfd7483f"
      },
      "source": [
        "# Compile model\n",
        "##Semakin besar nilai learning rate, maka proses training akan berjalan semakin cepat. Semakin besar learning rate, maka ketelitian jaringan akan semakin berkurang, dan berlaku sebaliknya.\n",
        "from tensorflow.keras.optimizers import Adam\n",
        "\n",
        "model.compile(optimizer=Adam(lr=0.00001), \n",
        "              loss='binary_crossentropy', \n",
        "              metrics=['acc'])"
      ],
      "execution_count": null,
      "outputs": [
        {
          "output_type": "stream",
          "name": "stderr",
          "text": [
            "/usr/local/lib/python3.7/dist-packages/keras/optimizer_v2/adam.py:105: UserWarning: The `lr` argument is deprecated, use `learning_rate` instead.\n",
            "  super(Adam, self).__init__(name, **kwargs)\n"
          ]
        }
      ]
    },
    {
      "cell_type": "code",
      "metadata": {
        "id": "PYPsqNiMdTBN",
        "colab": {
          "base_uri": "https://localhost:8080/"
        },
        "outputId": "61588eba-bfa9-4d81-f258-d1080c12be2a"
      },
      "source": [
        "H = model.fit(train_aug,steps_per_epoch=10, epochs=100, validation_data=test_aug, validation_steps=10, verbose=2)"
      ],
      "execution_count": null,
      "outputs": [
        {
          "output_type": "stream",
          "name": "stdout",
          "text": [
            "Epoch 1/100\n",
            "10/10 - 38s - loss: 0.2044 - acc: 0.9125 - val_loss: 0.5794 - val_acc: 0.9906 - 38s/epoch - 4s/step\n",
            "Epoch 2/100\n",
            "10/10 - 25s - loss: 0.0056 - acc: 1.0000 - val_loss: 0.5308 - val_acc: 0.9969 - 25s/epoch - 2s/step\n",
            "Epoch 3/100\n",
            "10/10 - 25s - loss: 0.0027 - acc: 1.0000 - val_loss: 0.5126 - val_acc: 0.9937 - 25s/epoch - 2s/step\n",
            "Epoch 4/100\n",
            "10/10 - 24s - loss: 7.9772e-04 - acc: 1.0000 - val_loss: 0.4978 - val_acc: 0.9937 - 24s/epoch - 2s/step\n",
            "Epoch 5/100\n",
            "10/10 - 25s - loss: 0.0011 - acc: 1.0000 - val_loss: 0.4858 - val_acc: 0.9937 - 25s/epoch - 2s/step\n",
            "Epoch 6/100\n",
            "10/10 - 25s - loss: 4.9559e-04 - acc: 1.0000 - val_loss: 0.4757 - val_acc: 1.0000 - 25s/epoch - 2s/step\n",
            "Epoch 7/100\n",
            "10/10 - 25s - loss: 4.0690e-04 - acc: 1.0000 - val_loss: 0.4548 - val_acc: 1.0000 - 25s/epoch - 2s/step\n",
            "Epoch 8/100\n",
            "10/10 - 25s - loss: 2.7896e-04 - acc: 1.0000 - val_loss: 0.4377 - val_acc: 1.0000 - 25s/epoch - 3s/step\n",
            "Epoch 9/100\n",
            "10/10 - 25s - loss: 9.6083e-04 - acc: 1.0000 - val_loss: 0.4217 - val_acc: 1.0000 - 25s/epoch - 3s/step\n",
            "Epoch 10/100\n",
            "10/10 - 25s - loss: 4.3361e-04 - acc: 1.0000 - val_loss: 0.4061 - val_acc: 1.0000 - 25s/epoch - 2s/step\n",
            "Epoch 11/100\n",
            "10/10 - 25s - loss: 6.3949e-04 - acc: 1.0000 - val_loss: 0.3910 - val_acc: 1.0000 - 25s/epoch - 2s/step\n",
            "Epoch 12/100\n",
            "10/10 - 24s - loss: 0.0018 - acc: 1.0000 - val_loss: 0.3775 - val_acc: 0.9969 - 24s/epoch - 2s/step\n",
            "Epoch 13/100\n",
            "10/10 - 25s - loss: 2.2422e-04 - acc: 1.0000 - val_loss: 0.3700 - val_acc: 1.0000 - 25s/epoch - 2s/step\n",
            "Epoch 14/100\n",
            "10/10 - 25s - loss: 1.5590e-04 - acc: 1.0000 - val_loss: 0.3494 - val_acc: 1.0000 - 25s/epoch - 3s/step\n",
            "Epoch 15/100\n",
            "10/10 - 25s - loss: 3.5612e-04 - acc: 1.0000 - val_loss: 0.3296 - val_acc: 1.0000 - 25s/epoch - 2s/step\n",
            "Epoch 16/100\n",
            "10/10 - 24s - loss: 2.5827e-04 - acc: 1.0000 - val_loss: 0.3106 - val_acc: 0.9969 - 24s/epoch - 2s/step\n",
            "Epoch 17/100\n",
            "10/10 - 24s - loss: 3.7894e-04 - acc: 1.0000 - val_loss: 0.2912 - val_acc: 1.0000 - 24s/epoch - 2s/step\n",
            "Epoch 18/100\n",
            "10/10 - 25s - loss: 2.0948e-04 - acc: 1.0000 - val_loss: 0.2739 - val_acc: 1.0000 - 25s/epoch - 2s/step\n",
            "Epoch 19/100\n",
            "10/10 - 26s - loss: 1.5719e-04 - acc: 1.0000 - val_loss: 0.2538 - val_acc: 1.0000 - 26s/epoch - 3s/step\n",
            "Epoch 20/100\n",
            "10/10 - 25s - loss: 1.4339e-04 - acc: 1.0000 - val_loss: 0.2356 - val_acc: 1.0000 - 25s/epoch - 2s/step\n",
            "Epoch 21/100\n",
            "10/10 - 25s - loss: 1.6376e-04 - acc: 1.0000 - val_loss: 0.2241 - val_acc: 1.0000 - 25s/epoch - 2s/step\n",
            "Epoch 22/100\n",
            "10/10 - 25s - loss: 1.3065e-04 - acc: 1.0000 - val_loss: 0.2086 - val_acc: 1.0000 - 25s/epoch - 3s/step\n",
            "Epoch 23/100\n",
            "10/10 - 26s - loss: 2.4575e-04 - acc: 1.0000 - val_loss: 0.1859 - val_acc: 1.0000 - 26s/epoch - 3s/step\n",
            "Epoch 24/100\n",
            "10/10 - 24s - loss: 4.6298e-04 - acc: 1.0000 - val_loss: 0.1739 - val_acc: 1.0000 - 24s/epoch - 2s/step\n",
            "Epoch 25/100\n",
            "10/10 - 25s - loss: 1.3813e-04 - acc: 1.0000 - val_loss: 0.1610 - val_acc: 1.0000 - 25s/epoch - 3s/step\n",
            "Epoch 26/100\n",
            "10/10 - 24s - loss: 1.1530e-04 - acc: 1.0000 - val_loss: 0.1426 - val_acc: 1.0000 - 24s/epoch - 2s/step\n",
            "Epoch 27/100\n",
            "10/10 - 25s - loss: 2.9446e-04 - acc: 1.0000 - val_loss: 0.1347 - val_acc: 1.0000 - 25s/epoch - 3s/step\n",
            "Epoch 28/100\n",
            "10/10 - 24s - loss: 1.2323e-04 - acc: 1.0000 - val_loss: 0.1203 - val_acc: 1.0000 - 24s/epoch - 2s/step\n",
            "Epoch 29/100\n",
            "10/10 - 24s - loss: 1.1223e-04 - acc: 1.0000 - val_loss: 0.1104 - val_acc: 1.0000 - 24s/epoch - 2s/step\n",
            "Epoch 30/100\n",
            "10/10 - 25s - loss: 7.7831e-05 - acc: 1.0000 - val_loss: 0.0966 - val_acc: 1.0000 - 25s/epoch - 2s/step\n",
            "Epoch 31/100\n",
            "10/10 - 26s - loss: 1.2381e-04 - acc: 1.0000 - val_loss: 0.0846 - val_acc: 1.0000 - 26s/epoch - 3s/step\n",
            "Epoch 32/100\n",
            "10/10 - 25s - loss: 7.3738e-05 - acc: 1.0000 - val_loss: 0.0797 - val_acc: 1.0000 - 25s/epoch - 3s/step\n",
            "Epoch 33/100\n",
            "10/10 - 25s - loss: 1.0170e-04 - acc: 1.0000 - val_loss: 0.0729 - val_acc: 1.0000 - 25s/epoch - 3s/step\n",
            "Epoch 34/100\n",
            "10/10 - 25s - loss: 7.4005e-05 - acc: 1.0000 - val_loss: 0.0601 - val_acc: 1.0000 - 25s/epoch - 3s/step\n",
            "Epoch 35/100\n",
            "10/10 - 24s - loss: 6.8000e-05 - acc: 1.0000 - val_loss: 0.0546 - val_acc: 1.0000 - 24s/epoch - 2s/step\n",
            "Epoch 36/100\n",
            "10/10 - 24s - loss: 6.6255e-05 - acc: 1.0000 - val_loss: 0.0495 - val_acc: 1.0000 - 24s/epoch - 2s/step\n",
            "Epoch 37/100\n",
            "10/10 - 24s - loss: 1.0149e-04 - acc: 1.0000 - val_loss: 0.0430 - val_acc: 1.0000 - 24s/epoch - 2s/step\n",
            "Epoch 38/100\n",
            "10/10 - 26s - loss: 6.7464e-05 - acc: 1.0000 - val_loss: 0.0356 - val_acc: 1.0000 - 26s/epoch - 3s/step\n",
            "Epoch 39/100\n",
            "10/10 - 24s - loss: 6.9288e-05 - acc: 1.0000 - val_loss: 0.0316 - val_acc: 1.0000 - 24s/epoch - 2s/step\n",
            "Epoch 40/100\n",
            "10/10 - 25s - loss: 9.0203e-05 - acc: 1.0000 - val_loss: 0.0279 - val_acc: 1.0000 - 25s/epoch - 3s/step\n",
            "Epoch 41/100\n",
            "10/10 - 26s - loss: 1.2310e-04 - acc: 1.0000 - val_loss: 0.0259 - val_acc: 1.0000 - 26s/epoch - 3s/step\n",
            "Epoch 42/100\n",
            "10/10 - 25s - loss: 7.8022e-05 - acc: 1.0000 - val_loss: 0.0195 - val_acc: 1.0000 - 25s/epoch - 3s/step\n",
            "Epoch 43/100\n",
            "10/10 - 24s - loss: 8.9216e-05 - acc: 1.0000 - val_loss: 0.0163 - val_acc: 1.0000 - 24s/epoch - 2s/step\n",
            "Epoch 44/100\n",
            "10/10 - 25s - loss: 6.5254e-05 - acc: 1.0000 - val_loss: 0.0147 - val_acc: 1.0000 - 25s/epoch - 3s/step\n",
            "Epoch 45/100\n",
            "10/10 - 24s - loss: 9.7513e-05 - acc: 1.0000 - val_loss: 0.0130 - val_acc: 1.0000 - 24s/epoch - 2s/step\n",
            "Epoch 46/100\n",
            "10/10 - 25s - loss: 6.5336e-05 - acc: 1.0000 - val_loss: 0.0112 - val_acc: 1.0000 - 25s/epoch - 3s/step\n",
            "Epoch 47/100\n",
            "10/10 - 25s - loss: 4.7083e-05 - acc: 1.0000 - val_loss: 0.0080 - val_acc: 1.0000 - 25s/epoch - 2s/step\n",
            "Epoch 48/100\n",
            "10/10 - 26s - loss: 1.0778e-04 - acc: 1.0000 - val_loss: 0.0079 - val_acc: 1.0000 - 26s/epoch - 3s/step\n",
            "Epoch 49/100\n",
            "10/10 - 25s - loss: 6.2482e-05 - acc: 1.0000 - val_loss: 0.0067 - val_acc: 1.0000 - 25s/epoch - 2s/step\n",
            "Epoch 50/100\n",
            "10/10 - 25s - loss: 4.3959e-05 - acc: 1.0000 - val_loss: 0.0062 - val_acc: 1.0000 - 25s/epoch - 3s/step\n",
            "Epoch 51/100\n",
            "10/10 - 24s - loss: 3.3463e-05 - acc: 1.0000 - val_loss: 0.0041 - val_acc: 1.0000 - 24s/epoch - 2s/step\n",
            "Epoch 52/100\n",
            "10/10 - 26s - loss: 4.5256e-05 - acc: 1.0000 - val_loss: 0.0034 - val_acc: 1.0000 - 26s/epoch - 3s/step\n",
            "Epoch 53/100\n",
            "10/10 - 25s - loss: 4.4299e-05 - acc: 1.0000 - val_loss: 0.0034 - val_acc: 1.0000 - 25s/epoch - 2s/step\n",
            "Epoch 54/100\n",
            "10/10 - 25s - loss: 4.2469e-05 - acc: 1.0000 - val_loss: 0.0027 - val_acc: 1.0000 - 25s/epoch - 3s/step\n",
            "Epoch 55/100\n",
            "10/10 - 26s - loss: 5.6512e-05 - acc: 1.0000 - val_loss: 0.0024 - val_acc: 1.0000 - 26s/epoch - 3s/step\n",
            "Epoch 56/100\n",
            "10/10 - 26s - loss: 2.7069e-05 - acc: 1.0000 - val_loss: 0.0021 - val_acc: 1.0000 - 26s/epoch - 3s/step\n",
            "Epoch 57/100\n",
            "10/10 - 25s - loss: 6.9356e-05 - acc: 1.0000 - val_loss: 0.0016 - val_acc: 1.0000 - 25s/epoch - 3s/step\n",
            "Epoch 58/100\n",
            "10/10 - 24s - loss: 4.5194e-05 - acc: 1.0000 - val_loss: 0.0013 - val_acc: 1.0000 - 24s/epoch - 2s/step\n",
            "Epoch 59/100\n",
            "10/10 - 26s - loss: 3.7490e-05 - acc: 1.0000 - val_loss: 0.0014 - val_acc: 1.0000 - 26s/epoch - 3s/step\n",
            "Epoch 60/100\n",
            "10/10 - 26s - loss: 3.8346e-05 - acc: 1.0000 - val_loss: 0.0012 - val_acc: 1.0000 - 26s/epoch - 3s/step\n",
            "Epoch 61/100\n",
            "10/10 - 24s - loss: 3.4218e-05 - acc: 1.0000 - val_loss: 8.0098e-04 - val_acc: 1.0000 - 24s/epoch - 2s/step\n",
            "Epoch 62/100\n",
            "10/10 - 24s - loss: 1.7024e-04 - acc: 1.0000 - val_loss: 7.8987e-04 - val_acc: 1.0000 - 24s/epoch - 2s/step\n",
            "Epoch 63/100\n",
            "10/10 - 25s - loss: 4.3418e-05 - acc: 1.0000 - val_loss: 7.3268e-04 - val_acc: 1.0000 - 25s/epoch - 3s/step\n",
            "Epoch 64/100\n",
            "10/10 - 26s - loss: 3.4277e-05 - acc: 1.0000 - val_loss: 4.4820e-04 - val_acc: 1.0000 - 26s/epoch - 3s/step\n",
            "Epoch 65/100\n",
            "10/10 - 25s - loss: 3.5205e-05 - acc: 1.0000 - val_loss: 4.1825e-04 - val_acc: 1.0000 - 25s/epoch - 2s/step\n",
            "Epoch 66/100\n",
            "10/10 - 25s - loss: 3.6636e-05 - acc: 1.0000 - val_loss: 3.5884e-04 - val_acc: 1.0000 - 25s/epoch - 3s/step\n",
            "Epoch 67/100\n",
            "10/10 - 26s - loss: 2.6820e-05 - acc: 1.0000 - val_loss: 3.1761e-04 - val_acc: 1.0000 - 26s/epoch - 3s/step\n",
            "Epoch 68/100\n",
            "10/10 - 25s - loss: 6.3879e-05 - acc: 1.0000 - val_loss: 3.3457e-04 - val_acc: 1.0000 - 25s/epoch - 3s/step\n",
            "Epoch 69/100\n",
            "10/10 - 25s - loss: 2.2779e-05 - acc: 1.0000 - val_loss: 2.3699e-04 - val_acc: 1.0000 - 25s/epoch - 2s/step\n",
            "Epoch 70/100\n",
            "10/10 - 25s - loss: 3.1868e-05 - acc: 1.0000 - val_loss: 2.4947e-04 - val_acc: 1.0000 - 25s/epoch - 2s/step\n",
            "Epoch 71/100\n",
            "10/10 - 25s - loss: 2.8954e-05 - acc: 1.0000 - val_loss: 1.6667e-04 - val_acc: 1.0000 - 25s/epoch - 2s/step\n",
            "Epoch 72/100\n",
            "10/10 - 24s - loss: 5.0002e-04 - acc: 1.0000 - val_loss: 1.9119e-04 - val_acc: 1.0000 - 24s/epoch - 2s/step\n",
            "Epoch 73/100\n",
            "10/10 - 25s - loss: 2.6472e-05 - acc: 1.0000 - val_loss: 2.4029e-04 - val_acc: 1.0000 - 25s/epoch - 2s/step\n",
            "Epoch 74/100\n",
            "10/10 - 25s - loss: 3.0769e-05 - acc: 1.0000 - val_loss: 1.6374e-04 - val_acc: 1.0000 - 25s/epoch - 3s/step\n",
            "Epoch 75/100\n",
            "10/10 - 25s - loss: 2.0937e-05 - acc: 1.0000 - val_loss: 1.8732e-04 - val_acc: 1.0000 - 25s/epoch - 3s/step\n",
            "Epoch 76/100\n",
            "10/10 - 25s - loss: 2.2079e-05 - acc: 1.0000 - val_loss: 1.2043e-04 - val_acc: 1.0000 - 25s/epoch - 2s/step\n",
            "Epoch 77/100\n",
            "10/10 - 25s - loss: 1.8890e-05 - acc: 1.0000 - val_loss: 1.2624e-04 - val_acc: 1.0000 - 25s/epoch - 3s/step\n",
            "Epoch 78/100\n",
            "10/10 - 24s - loss: 2.6004e-05 - acc: 1.0000 - val_loss: 8.1613e-05 - val_acc: 1.0000 - 24s/epoch - 2s/step\n",
            "Epoch 79/100\n",
            "10/10 - 25s - loss: 2.8158e-05 - acc: 1.0000 - val_loss: 7.6438e-05 - val_acc: 1.0000 - 25s/epoch - 2s/step\n",
            "Epoch 80/100\n",
            "10/10 - 25s - loss: 1.9600e-05 - acc: 1.0000 - val_loss: 7.1630e-05 - val_acc: 1.0000 - 25s/epoch - 2s/step\n",
            "Epoch 81/100\n",
            "10/10 - 24s - loss: 1.8616e-05 - acc: 1.0000 - val_loss: 9.1497e-05 - val_acc: 1.0000 - 24s/epoch - 2s/step\n",
            "Epoch 82/100\n",
            "10/10 - 25s - loss: 2.2952e-05 - acc: 1.0000 - val_loss: 5.0917e-05 - val_acc: 1.0000 - 25s/epoch - 3s/step\n",
            "Epoch 83/100\n",
            "10/10 - 24s - loss: 2.6966e-05 - acc: 1.0000 - val_loss: 6.9100e-05 - val_acc: 1.0000 - 24s/epoch - 2s/step\n",
            "Epoch 84/100\n",
            "10/10 - 24s - loss: 2.4036e-05 - acc: 1.0000 - val_loss: 6.3998e-05 - val_acc: 1.0000 - 24s/epoch - 2s/step\n",
            "Epoch 85/100\n",
            "10/10 - 24s - loss: 1.7897e-05 - acc: 1.0000 - val_loss: 4.9419e-05 - val_acc: 1.0000 - 24s/epoch - 2s/step\n",
            "Epoch 86/100\n",
            "10/10 - 25s - loss: 1.6901e-05 - acc: 1.0000 - val_loss: 8.1706e-05 - val_acc: 1.0000 - 25s/epoch - 2s/step\n",
            "Epoch 87/100\n",
            "10/10 - 25s - loss: 1.5419e-05 - acc: 1.0000 - val_loss: 5.2610e-05 - val_acc: 1.0000 - 25s/epoch - 2s/step\n",
            "Epoch 88/100\n",
            "10/10 - 24s - loss: 2.2745e-05 - acc: 1.0000 - val_loss: 3.1819e-05 - val_acc: 1.0000 - 24s/epoch - 2s/step\n",
            "Epoch 89/100\n",
            "10/10 - 24s - loss: 1.9825e-05 - acc: 1.0000 - val_loss: 3.9328e-05 - val_acc: 1.0000 - 24s/epoch - 2s/step\n",
            "Epoch 90/100\n",
            "10/10 - 25s - loss: 2.5751e-05 - acc: 1.0000 - val_loss: 4.9788e-05 - val_acc: 1.0000 - 25s/epoch - 3s/step\n",
            "Epoch 91/100\n",
            "10/10 - 24s - loss: 1.7656e-05 - acc: 1.0000 - val_loss: 3.8026e-05 - val_acc: 1.0000 - 24s/epoch - 2s/step\n",
            "Epoch 92/100\n",
            "10/10 - 24s - loss: 1.7244e-05 - acc: 1.0000 - val_loss: 4.1140e-05 - val_acc: 1.0000 - 24s/epoch - 2s/step\n",
            "Epoch 93/100\n",
            "10/10 - 24s - loss: 1.2391e-05 - acc: 1.0000 - val_loss: 3.8361e-05 - val_acc: 1.0000 - 24s/epoch - 2s/step\n",
            "Epoch 94/100\n",
            "10/10 - 25s - loss: 2.0734e-05 - acc: 1.0000 - val_loss: 4.3259e-05 - val_acc: 1.0000 - 25s/epoch - 3s/step\n",
            "Epoch 95/100\n",
            "10/10 - 24s - loss: 1.2592e-05 - acc: 1.0000 - val_loss: 2.9957e-05 - val_acc: 1.0000 - 24s/epoch - 2s/step\n",
            "Epoch 96/100\n",
            "10/10 - 24s - loss: 1.3425e-05 - acc: 1.0000 - val_loss: 2.6055e-05 - val_acc: 1.0000 - 24s/epoch - 2s/step\n",
            "Epoch 97/100\n",
            "10/10 - 25s - loss: 1.5474e-05 - acc: 1.0000 - val_loss: 3.4848e-05 - val_acc: 1.0000 - 25s/epoch - 2s/step\n",
            "Epoch 98/100\n",
            "10/10 - 26s - loss: 1.6681e-05 - acc: 1.0000 - val_loss: 3.3576e-05 - val_acc: 1.0000 - 26s/epoch - 3s/step\n",
            "Epoch 99/100\n",
            "10/10 - 26s - loss: 1.2340e-05 - acc: 1.0000 - val_loss: 3.7102e-05 - val_acc: 1.0000 - 26s/epoch - 3s/step\n",
            "Epoch 100/100\n",
            "10/10 - 26s - loss: 1.8017e-05 - acc: 1.0000 - val_loss: 2.6539e-05 - val_acc: 1.0000 - 26s/epoch - 3s/step\n"
          ]
        }
      ]
    },
    {
      "cell_type": "code",
      "metadata": {
        "id": "CD8SjiW1dyDj",
        "colab": {
          "base_uri": "https://localhost:8080/",
          "height": 299
        },
        "outputId": "66f27e35-0cee-446a-90de-00045d9159fc"
      },
      "source": [
        "%matplotlib inline\n",
        "import numpy as np\n",
        "import matplotlib.pyplot as plt\n",
        "plt.style.use(\"ggplot\")\n",
        "plt.figure()\n",
        "plt.plot(np.arange(0, 100), H.history[\"loss\"], label=\"train_loss\")\n",
        "plt.plot(np.arange(0, 100), H.history[\"val_loss\"], label=\"val_loss\")\n",
        "plt.title(\"Loss Plot 1\")\n",
        "plt.xlabel(\"Epoch #\")\n",
        "plt.ylabel(\"Loss\")\n",
        "plt.legend()\n",
        "plt.show()"
      ],
      "execution_count": null,
      "outputs": [
        {
          "output_type": "display_data",
          "data": {
            "image/png": "[encoded data removed]",
            "text/plain": [
              "<Figure size 432x288 with 1 Axes>"
            ]
          },
          "metadata": {}
        }
      ]
    },
    {
      "cell_type": "code",
      "metadata": {
        "id": "Fm8MVnZVeFK0",
        "colab": {
          "base_uri": "https://localhost:8080/",
          "height": 299
        },
        "outputId": "31e70b3b-063c-49ff-e75b-85e226d3f228"
      },
      "source": [
        "plt.style.use(\"ggplot\")\n",
        "plt.figure()\n",
        "plt.plot(np.arange(0, 100), H.history[\"acc\"], label=\"train_acc\")\n",
        "plt.plot(np.arange(0, 100), H.history[\"val_acc\"], label=\"val_acc\")\n",
        "plt.title(\"Accuracy Plot 1\")\n",
        "plt.xlabel(\"Epoch #\")\n",
        "plt.ylabel(\"Acc\")\n",
        "plt.legend()\n",
        "plt.show()"
      ],
      "execution_count": null,
      "outputs": [
        {
          "output_type": "display_data",
          "data": {
            "image/png": "[encoded data removed]",
            "text/plain": [
              "<Figure size 432x288 with 1 Axes>"
            ]
          },
          "metadata": {}
        }
      ]
    },
    {
      "cell_type": "code",
      "metadata": {
        "id": "iQl-nGr4K90s",
        "colab": {
          "base_uri": "https://localhost:8080/"
        },
        "outputId": "cd87ce39-c958-4f3e-cff4-d8d3e9512c9a"
      },
      "source": [
        "# Tulis Program Anda Disini!\n",
        "from sklearn.metrics import classification_report\n",
        "\n",
        "ypred = model.predict(test_aug)\n",
        "prediction = np.argmax(ypred, axis=1)\n",
        "print(classification_report(test_aug.classes, prediction))"
      ],
      "execution_count": null,
      "outputs": [
        {
          "output_type": "stream",
          "name": "stdout",
          "text": [
            "              precision    recall  f1-score   support\n",
            "\n",
            "           0       1.00      1.00      1.00       500\n",
            "\n",
            "    accuracy                           1.00       500\n",
            "   macro avg       1.00      1.00      1.00       500\n",
            "weighted avg       1.00      1.00      1.00       500\n",
            "\n"
          ]
        }
      ]
    }
  ]
}